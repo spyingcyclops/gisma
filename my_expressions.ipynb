{
  "cells": [
    {
      "cell_type": "markdown",
      "id": "loved-gallery",
      "metadata": {
        "id": "loved-gallery"
      },
      "source": [
        "# Expressions"
      ]
    },
    {
      "cell_type": "markdown",
      "id": "false-documentary",
      "metadata": {
        "id": "false-documentary"
      },
      "source": [
        "## Count Seconds in a Decade\n",
        "Write a Python program to calculate the number of seconds in 10 years. Assume that we have 2 leap years in this period. Assign the result into a variable named `seconds_in_10_years`."
      ]
    },
    {
      "cell_type": "code",
      "execution_count": null,
      "id": "prescribed-faculty",
      "metadata": {
        "id": "prescribed-faculty"
      },
      "outputs": [],
      "source": [
        "seconds_in_10_years = (365 * 10 + 2) * 24 * 60 * 60\n",
        "print(seconds_in_10_years)"
      ]
    },
    {
      "cell_type": "markdown",
      "id": "sealed-mouth",
      "metadata": {
        "id": "sealed-mouth"
      },
      "source": [
        "## Compute the Area of a Circle\n",
        "Write a Python program that computes the area of a circle based on a given radius. The area of circle can be computed by the following formula: $ a = \\pi r^2 $."
      ]
    },
    {
      "cell_type": "code",
      "execution_count": null,
      "id": "amber-macedonia",
      "metadata": {
        "id": "amber-macedonia",
        "outputId": "0b3a8608-5a5c-4dec-cd12-6422d464dd66"
      },
      "outputs": [
        {
          "name": "stdout",
          "output_type": "stream",
          "text": [
            "Enter the radius of your circle: 100\n"
          ]
        },
        {
          "data": {
            "text/plain": [
              "31415.926535897932"
            ]
          },
          "execution_count": 2,
          "metadata": {},
          "output_type": "execute_result"
        }
      ],
      "source": [
        "import math\n",
        "\n",
        "def area_circ(radius):\n",
        "    return (radius**2 * math.pi)\n",
        "\n",
        "user_rad = float(input(\"Enter the radius of your circle: \"))\n",
        "answer = area_circ(user_rad)\n",
        "answer"
      ]
    },
    {
      "cell_type": "markdown",
      "id": "attached-cleaning",
      "metadata": {
        "id": "attached-cleaning"
      },
      "source": [
        "## Compute Maximum of Numbers\n",
        "Write a Python program that computes the maximum of two inputs: \n",
        "- The first input should be the absolute of -4. \n",
        "- The second input should be the minimum of -3 and the length of the string `\"abc\"`."
      ]
    },
    {
      "cell_type": "code",
      "execution_count": null,
      "id": "aware-resort",
      "metadata": {
        "id": "aware-resort"
      },
      "outputs": [],
      "source": [
        "a = abs(-4)\n",
        "b = min(-3, len(\"abc\"))\n",
        "\n",
        "print(max(a, b))"
      ]
    },
    {
      "cell_type": "markdown",
      "id": "cooperative-request",
      "metadata": {
        "id": "cooperative-request"
      },
      "source": [
        "## Compute Euclidean Distance\n",
        "Write a Python program to compute the Euclidean distance between two given points $ (x_1, y_1) $ and $ (x_2, y_2) $, which is $ \\sqrt{(x_1 - x_2)^2 + (y_1 - y_2)^2} $."
      ]
    },
    {
      "cell_type": "code",
      "execution_count": null,
      "id": "killing-shore",
      "metadata": {
        "id": "killing-shore",
        "outputId": "33dcae9e-64ef-4d78-f5c6-01ec94c695cc"
      },
      "outputs": [
        {
          "name": "stdout",
          "output_type": "stream",
          "text": [
            "Enter the (x, y) coordinates for point 1, separated by a comma: 1, 1\n",
            "Enter the (x, y) coordinates for point 2, separated by a comma: 1, 2\n"
          ]
        },
        {
          "data": {
            "text/plain": [
              "1.0"
            ]
          },
          "execution_count": 5,
          "metadata": {},
          "output_type": "execute_result"
        }
      ],
      "source": [
        "point1 = input(\"Enter the (x, y) coordinates for point 1, separated by a comma: \")\n",
        "point2 = input(\"Enter the (x, y) coordinates for point 2, separated by a comma: \")\n",
        "\n",
        "point1 = point1.split(\", \")\n",
        "point2 = point2.split(\", \")\n",
        "\n",
        "x1 = int(point1[0])\n",
        "x2 = int(point2[0])\n",
        "y1 = int(point1[1])\n",
        "y2 = int(point2[1])\n",
        "\n",
        "euc_dis = ((x1 - x2)**2 + (y1 - y2)**2) ** 0.5\n",
        "\n",
        "euc_dis"
      ]
    },
    {
      "cell_type": "markdown",
      "id": "color-texas",
      "metadata": {
        "id": "color-texas"
      },
      "source": [
        "## Convert Fahrenheit to Celsius \n",
        "Write a Python program to convert fahrenheit to celsius based on the the following formula: $ C = (F - 32) \\times \\frac{5}{9}. $"
      ]
    },
    {
      "cell_type": "code",
      "execution_count": null,
      "id": "broad-ordinary",
      "metadata": {
        "id": "broad-ordinary",
        "outputId": "425a7435-293b-4ddb-b447-695e51cb7820"
      },
      "outputs": [
        {
          "name": "stdout",
          "output_type": "stream",
          "text": [
            "Enter the temperature in fahrenheit: 40\n"
          ]
        },
        {
          "data": {
            "text/plain": [
              "4.444444444444445"
            ]
          },
          "execution_count": 6,
          "metadata": {},
          "output_type": "execute_result"
        }
      ],
      "source": [
        "f = int(input(\"Enter the temperature in fahrenheit: \"))\n",
        "\n",
        "c = (f - 32) * 5 / 9\n",
        "\n",
        "c"
      ]
    },
    {
      "cell_type": "markdown",
      "id": "imported-yeast",
      "metadata": {
        "id": "imported-yeast"
      },
      "source": [
        "## Print User's Name\n",
        "Write a Python program which accepts the user's first and last name and prints them in reverse order with a space between them. For example, if the user enters `John Doe`, the program should print `Doe John`. Note that you can use the `input()` function to take user's inputs."
      ]
    },
    {
      "cell_type": "code",
      "execution_count": null,
      "id": "inner-arabic",
      "metadata": {
        "id": "inner-arabic",
        "outputId": "aff54397-fb11-4f4e-d718-fb1b76ba72df"
      },
      "outputs": [
        {
          "name": "stdout",
          "output_type": "stream",
          "text": [
            "Enter your first name and surname, separated by a space: John Doe\n"
          ]
        },
        {
          "data": {
            "text/plain": [
              "'Doe John'"
            ]
          },
          "execution_count": 7,
          "metadata": {},
          "output_type": "execute_result"
        }
      ],
      "source": [
        "name = input(\"Enter your first name and surname, separated by a space: \")\n",
        "name = name.split()\n",
        "rev_name = name[1] + \" \"+ name[0]\n",
        "rev_name"
      ]
    }
  ],
  "metadata": {
    "kernelspec": {
      "display_name": "Python 3 (ipykernel)",
      "language": "python",
      "name": "python3"
    },
    "language_info": {
      "codemirror_mode": {
        "name": "ipython",
        "version": 3
      },
      "file_extension": ".py",
      "mimetype": "text/x-python",
      "name": "python",
      "nbconvert_exporter": "python",
      "pygments_lexer": "ipython3",
      "version": "3.8.12"
    },
    "colab": {
      "name": "my_expressions.ipynb",
      "provenance": []
    }
  },
  "nbformat": 4,
  "nbformat_minor": 5
}