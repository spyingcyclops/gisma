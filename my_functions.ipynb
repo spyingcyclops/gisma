{
  "cells": [
    {
      "cell_type": "markdown",
      "metadata": {
        "id": "view-in-github",
        "colab_type": "text"
      },
      "source": [
        "<a href=\"https://colab.research.google.com/github/spyingcyclops/gisma/blob/main/my_functions.ipynb\" target=\"_parent\"><img src=\"https://colab.research.google.com/assets/colab-badge.svg\" alt=\"Open In Colab\"/></a>"
      ]
    },
    {
      "cell_type": "markdown",
      "id": "qualified-overhead",
      "metadata": {
        "id": "qualified-overhead"
      },
      "source": [
        "# Functions"
      ]
    },
    {
      "cell_type": "markdown",
      "id": "geographic-kazakhstan",
      "metadata": {
        "id": "geographic-kazakhstan"
      },
      "source": [
        "## Count Non-Vowel Characters\n",
        "Write a Python function that takes a string and returns the number of non-vowel characters in that string. Vowel characters in English are `\"a\"`, `\"e\"`, `\"i\"`, `\"o\"`, and `\"u\"`. For example, given the string `\"abcdA\"`, the function should return 3."
      ]
    },
    {
      "cell_type": "code",
      "execution_count": null,
      "id": "increased-introduction",
      "metadata": {
        "id": "increased-introduction",
        "outputId": "7b2fdfed-5d01-4673-b96b-f6c2815cc5ce"
      },
      "outputs": [
        {
          "name": "stdout",
          "output_type": "stream",
          "text": [
            "77\n"
          ]
        }
      ],
      "source": [
        "x = \"Write a Python function that takes a string and returns the number of non-vowel characters in that string\"\n",
        "\n",
        "def count_non_vowels(charstring):\n",
        "    \"\"\"Count the number of non-vowels in a string.\"\"\"\n",
        "    charstring = charstring.lower()\n",
        "    chars = list(charstring)\n",
        "    vowels = [\"a\", \"e\", \"i\", \"o\", \"u\", ]\n",
        "    result = 0\n",
        "    for i in chars:\n",
        "        if i not in vowels:\n",
        "            result += 1\n",
        "    print(result)\n",
        "    return result\n",
        "\n",
        "y = count_non_vowels(x)\n"
      ]
    },
    {
      "cell_type": "markdown",
      "id": "permanent-lawsuit",
      "metadata": {
        "id": "permanent-lawsuit"
      },
      "source": [
        "## Multiply the List Elements\n",
        "Write a Python function that takes a list of values as input and returns the product of all the numbers in the list. For example, given the input list `[1, 3, 8]`, the function should return 24."
      ]
    },
    {
      "cell_type": "code",
      "execution_count": null,
      "id": "extensive-dividend",
      "metadata": {
        "id": "extensive-dividend",
        "outputId": "2ba1fc0b-8af9-4435-ec42-91c837f8515a"
      },
      "outputs": [
        {
          "name": "stdout",
          "output_type": "stream",
          "text": [
            "24\n"
          ]
        }
      ],
      "source": [
        "def list_multiply(list_of_nums):\n",
        "    \"\"\"Take a list of integers, and return their product.\"\"\"\n",
        "    nums = list_of_nums\n",
        "    result = 1\n",
        "    for i in nums:\n",
        "        result *= i\n",
        "    return result\n",
        "\n",
        "print(list_multiply([1, 3, 8]))"
      ]
    },
    {
      "cell_type": "markdown",
      "id": "documented-discharge",
      "metadata": {
        "id": "documented-discharge"
      },
      "source": [
        "## Check if a String is Palindrome\n",
        "Write a Python function that takes a string and returns `True` if it is palindrome. A palindrome is a word, number, phrase, or other sequence of characters which reads the same backward as forward. For example, given the string `\"abc\"` the function should return `False`. But, given the string `\"aba\"`, the function should return `True`."
      ]
    },
    {
      "cell_type": "code",
      "execution_count": null,
      "id": "homeless-generator",
      "metadata": {
        "id": "homeless-generator",
        "outputId": "5e6e696e-735f-4260-ae3e-e89f12c11d48"
      },
      "outputs": [
        {
          "name": "stdout",
          "output_type": "stream",
          "text": [
            "True\n"
          ]
        }
      ],
      "source": [
        "def is_palindrome(word):\n",
        "    \"\"\"This function...\"\"\"\n",
        "    word = word.lower()\n",
        "    word_rev = word[::-1]\n",
        "    return word_rev == word\n",
        "\n",
        "print(is_palindrome(\"anna\"))"
      ]
    },
    {
      "cell_type": "markdown",
      "id": "retired-craps",
      "metadata": {
        "id": "retired-craps"
      },
      "source": [
        "## Count the Unique Digits in an Integer\n",
        "Write a Python function that takes a positive integer and returns the number of unique digits in that integer. For example, given the integer 12315, the function should return 4."
      ]
    },
    {
      "cell_type": "code",
      "execution_count": null,
      "id": "australian-resort",
      "metadata": {
        "id": "australian-resort"
      },
      "outputs": [],
      "source": [
        ""
      ]
    },
    {
      "cell_type": "markdown",
      "id": "upset-physiology",
      "metadata": {
        "id": "upset-physiology"
      },
      "source": [
        "## Check a Number is Prime\n",
        "Write a Python function that takes a number and checks the number is prime or not. It should return `True` for being prime and `False` otherwise. Note that a prime number (or a prime) is a natural number greater than 1 and that has no positive divisors other than 1 and itself. For example, the function should return `True` for the given number 7 and `False` for the given number 10."
      ]
    },
    {
      "cell_type": "code",
      "execution_count": null,
      "id": "normal-garbage",
      "metadata": {
        "id": "normal-garbage"
      },
      "outputs": [],
      "source": [
        ""
      ]
    },
    {
      "cell_type": "markdown",
      "id": "daily-console",
      "metadata": {
        "id": "daily-console"
      },
      "source": [
        "## Sort Hyphened-Seperated Words\n",
        "Write a Python function that takes a sequence of words that are separated by hyphens as input and returns the words in a hyphen-separated sequence after sorting the words alphabetically. For example, given the string `\"green-red-yellow-black-white\"`, the function should return `\"black-green-red-white-yellow\"`."
      ]
    },
    {
      "cell_type": "code",
      "execution_count": null,
      "id": "aging-staff",
      "metadata": {
        "id": "aging-staff",
        "outputId": "c7fbc9b4-acc8-4e36-8fd0-bdf751bf02b0"
      },
      "outputs": [
        {
          "name": "stdout",
          "output_type": "stream",
          "text": [
            "black-green-red-white-yellow\n"
          ]
        }
      ],
      "source": [
        "def sort_hyphenated(word_sequence):\n",
        "    \"\"\"Returns a sorted string of hyphen-separated words\"\"\"\n",
        "    words = word_sequence.split(\"-\")\n",
        "    words.sort()\n",
        "    sep = \"-\"\n",
        "    sorted_words = str(sep.join(words))\n",
        "    return sorted_words\n",
        "\n",
        "print(sort_hyphenated(\"black-green-red-white-yellow\"))"
      ]
    },
    {
      "cell_type": "markdown",
      "id": "dressed-leisure",
      "metadata": {
        "id": "dressed-leisure"
      },
      "source": [
        "## Count the Characters\n",
        "Write a Python function that takes a string as input and returns a dictionary that stores the frequency of each character in the input string. For example, given the string `\"abca\"`, the function should return `{'a': 2, 'b': 1, 'c': 1}`."
      ]
    },
    {
      "cell_type": "code",
      "execution_count": null,
      "id": "complete-stress",
      "metadata": {
        "id": "complete-stress"
      },
      "outputs": [],
      "source": [
        ""
      ]
    },
    {
      "cell_type": "markdown",
      "id": "aerial-uganda",
      "metadata": {
        "id": "aerial-uganda"
      },
      "source": [
        "## Compute the Fibonacci Sequence\n",
        "The Fibonacci Sequence is computed based on the following formula:     \n",
        "\n",
        "$$ f(n) = 0 \\text{   if } n = 0; \\\\\n",
        "f(n) = 1 \\text{   if } n = 1; \\\\\n",
        "f(n) = f(n-1) + f(n-2) \\text{   if } n > 1. $$     \n",
        "\n",
        "Write a Python function that computes the value of `f(n)` with a given `n` as input. For example, given 7, the function should return 13."
      ]
    },
    {
      "cell_type": "code",
      "execution_count": null,
      "id": "compatible-senate",
      "metadata": {
        "id": "compatible-senate"
      },
      "outputs": [],
      "source": [
        ""
      ]
    }
  ],
  "metadata": {
    "kernelspec": {
      "display_name": "Python 3 (ipykernel)",
      "language": "python",
      "name": "python3"
    },
    "language_info": {
      "codemirror_mode": {
        "name": "ipython",
        "version": 3
      },
      "file_extension": ".py",
      "mimetype": "text/x-python",
      "name": "python",
      "nbconvert_exporter": "python",
      "pygments_lexer": "ipython3",
      "version": "3.8.12"
    },
    "colab": {
      "name": "my_functions.ipynb",
      "provenance": [],
      "include_colab_link": true
    }
  },
  "nbformat": 4,
  "nbformat_minor": 5
}