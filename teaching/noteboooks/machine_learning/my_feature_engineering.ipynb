{
  "cells": [
    {
      "cell_type": "markdown",
      "metadata": {
        "id": "view-in-github",
        "colab_type": "text"
      },
      "source": [
        "<a href=\"https://colab.research.google.com/github/spyingcyclops/gisma/blob/main/my_feature_engineering_2.ipynb\" target=\"_parent\"><img src=\"https://colab.research.google.com/assets/colab-badge.svg\" alt=\"Open In Colab\"/></a>"
      ]
    },
    {
      "cell_type": "markdown",
      "id": "korean-wednesday",
      "metadata": {
        "id": "korean-wednesday"
      },
      "source": [
        "# Feature Engineering\n",
        "You should build a machine learning pipeline with a data preprocessing and feature engineering step. In particular, you should do the following:\n",
        "- Load the `adult` dataset using [Pandas](https://pandas.pydata.org/docs/reference/api/pandas.read_csv.html). You can find this dataset in the datasets folder.\n",
        "- Split the dataset into training and test sets using [Scikit-Learn](https://scikit-learn.org/stable/modules/generated/sklearn.model_selection.train_test_split.html). \n",
        "- Preprocess the dataset by \n",
        "    - removing missing values using [Pandas](https://pandas.pydata.org/docs/reference/api/pandas.DataFrame.dropna.html);\n",
        "    - encoding categorical attributes using [Scikit-Learn](https://scikit-learn.org/stable/modules/generated/sklearn.preprocessing.OneHotEncoder.html);\n",
        "    - normalizing/scaling features using [Scikit-Learn](https://scikit-learn.org/stable/modules/generated/sklearn.preprocessing.StandardScaler.html);\n",
        "    - handling imbalanced classes using [Imbalanced-Learn](https://imbalanced-learn.org/stable/references/generated/imblearn.over_sampling.SMOTE.html);\n",
        "    - and reducing the dimensionality of the dataset using [Scikit-Learn](https://scikit-learn.org/stable/modules/generated/sklearn.decomposition.PCA.html).\n",
        "- Train and test a support vector machine model using [Scikit-Learn](https://scikit-learn.org/stable/modules/generated/sklearn.svm.SVC.html).\n",
        "- Evaluate the impact of the data preprocessing and feature engineering methods on the effectiveness and efficiency of the model.\n",
        "- Check the documentation to identify the most important hyperparameters, attributes, and methods. Use them in practice."
      ]
    },
    {
      "cell_type": "code",
      "execution_count": null,
      "id": "infrared-copper",
      "metadata": {
        "id": "infrared-copper",
        "outputId": "0c2ffeda-b9b1-4fd1-d7e0-9dcb0e2bb4eb"
      },
      "outputs": [
        {
          "data": {
            "text/html": [
              "<div>\n",
              "<style scoped>\n",
              "    .dataframe tbody tr th:only-of-type {\n",
              "        vertical-align: middle;\n",
              "    }\n",
              "\n",
              "    .dataframe tbody tr th {\n",
              "        vertical-align: top;\n",
              "    }\n",
              "\n",
              "    .dataframe thead th {\n",
              "        text-align: right;\n",
              "    }\n",
              "</style>\n",
              "<table border=\"1\" class=\"dataframe\">\n",
              "  <thead>\n",
              "    <tr style=\"text-align: right;\">\n",
              "      <th></th>\n",
              "      <th>age</th>\n",
              "      <th>workclass</th>\n",
              "      <th>fnlwgt</th>\n",
              "      <th>education</th>\n",
              "      <th>education-num</th>\n",
              "      <th>marital-status</th>\n",
              "      <th>occupation</th>\n",
              "      <th>relationship</th>\n",
              "      <th>race</th>\n",
              "      <th>sex</th>\n",
              "      <th>capital-gain</th>\n",
              "      <th>capital-loss</th>\n",
              "      <th>hours-per-week</th>\n",
              "      <th>native-country</th>\n",
              "      <th>target</th>\n",
              "    </tr>\n",
              "  </thead>\n",
              "  <tbody>\n",
              "    <tr>\n",
              "      <th>0</th>\n",
              "      <td>39</td>\n",
              "      <td>State-gov</td>\n",
              "      <td>77516</td>\n",
              "      <td>Bachelors</td>\n",
              "      <td>13</td>\n",
              "      <td>Never-married</td>\n",
              "      <td>Adm-clerical</td>\n",
              "      <td>Not-in-family</td>\n",
              "      <td>White</td>\n",
              "      <td>Male</td>\n",
              "      <td>2174</td>\n",
              "      <td>0</td>\n",
              "      <td>40</td>\n",
              "      <td>United-States</td>\n",
              "      <td>&lt;=50K</td>\n",
              "    </tr>\n",
              "    <tr>\n",
              "      <th>1</th>\n",
              "      <td>50</td>\n",
              "      <td>Self-emp-not-inc</td>\n",
              "      <td>83311</td>\n",
              "      <td>Bachelors</td>\n",
              "      <td>13</td>\n",
              "      <td>Married-civ-spouse</td>\n",
              "      <td>Exec-managerial</td>\n",
              "      <td>Husband</td>\n",
              "      <td>White</td>\n",
              "      <td>Male</td>\n",
              "      <td>0</td>\n",
              "      <td>0</td>\n",
              "      <td>13</td>\n",
              "      <td>United-States</td>\n",
              "      <td>&lt;=50K</td>\n",
              "    </tr>\n",
              "    <tr>\n",
              "      <th>2</th>\n",
              "      <td>38</td>\n",
              "      <td>Private</td>\n",
              "      <td>215646</td>\n",
              "      <td>HS-grad</td>\n",
              "      <td>9</td>\n",
              "      <td>Divorced</td>\n",
              "      <td>Handlers-cleaners</td>\n",
              "      <td>Not-in-family</td>\n",
              "      <td>White</td>\n",
              "      <td>Male</td>\n",
              "      <td>0</td>\n",
              "      <td>0</td>\n",
              "      <td>40</td>\n",
              "      <td>United-States</td>\n",
              "      <td>&lt;=50K</td>\n",
              "    </tr>\n",
              "    <tr>\n",
              "      <th>3</th>\n",
              "      <td>53</td>\n",
              "      <td>Private</td>\n",
              "      <td>234721</td>\n",
              "      <td>11th</td>\n",
              "      <td>7</td>\n",
              "      <td>Married-civ-spouse</td>\n",
              "      <td>Handlers-cleaners</td>\n",
              "      <td>Husband</td>\n",
              "      <td>Black</td>\n",
              "      <td>Male</td>\n",
              "      <td>0</td>\n",
              "      <td>0</td>\n",
              "      <td>40</td>\n",
              "      <td>United-States</td>\n",
              "      <td>&lt;=50K</td>\n",
              "    </tr>\n",
              "    <tr>\n",
              "      <th>4</th>\n",
              "      <td>28</td>\n",
              "      <td>Private</td>\n",
              "      <td>338409</td>\n",
              "      <td>Bachelors</td>\n",
              "      <td>13</td>\n",
              "      <td>Married-civ-spouse</td>\n",
              "      <td>Prof-specialty</td>\n",
              "      <td>Wife</td>\n",
              "      <td>Black</td>\n",
              "      <td>Female</td>\n",
              "      <td>0</td>\n",
              "      <td>0</td>\n",
              "      <td>40</td>\n",
              "      <td>Cuba</td>\n",
              "      <td>&lt;=50K</td>\n",
              "    </tr>\n",
              "  </tbody>\n",
              "</table>\n",
              "</div>"
            ],
            "text/plain": [
              "   age          workclass  fnlwgt   education  education-num  \\\n",
              "0   39          State-gov   77516   Bachelors             13   \n",
              "1   50   Self-emp-not-inc   83311   Bachelors             13   \n",
              "2   38            Private  215646     HS-grad              9   \n",
              "3   53            Private  234721        11th              7   \n",
              "4   28            Private  338409   Bachelors             13   \n",
              "\n",
              "        marital-status          occupation    relationship    race      sex  \\\n",
              "0        Never-married        Adm-clerical   Not-in-family   White     Male   \n",
              "1   Married-civ-spouse     Exec-managerial         Husband   White     Male   \n",
              "2             Divorced   Handlers-cleaners   Not-in-family   White     Male   \n",
              "3   Married-civ-spouse   Handlers-cleaners         Husband   Black     Male   \n",
              "4   Married-civ-spouse      Prof-specialty            Wife   Black   Female   \n",
              "\n",
              "   capital-gain  capital-loss  hours-per-week  native-country  target  \n",
              "0          2174             0              40   United-States   <=50K  \n",
              "1             0             0              13   United-States   <=50K  \n",
              "2             0             0              40   United-States   <=50K  \n",
              "3             0             0              40   United-States   <=50K  \n",
              "4             0             0              40            Cuba   <=50K  "
            ]
          },
          "execution_count": 1,
          "metadata": {},
          "output_type": "execute_result"
        }
      ],
      "source": [
        "import pandas as pd\n",
        "import sklearn.model_selection\n",
        "import sklearn.preprocessing\n",
        "import sklearn.svm\n",
        "import sklearn.decomposition\n",
        "import imblearn.over_sampling\n",
        "import sklearn.metrics\n",
        "\n",
        "\n",
        "df = pd.read_csv(\"../../datasets/adult.csv\")\n",
        "df.head()"
      ]
    },
    {
      "cell_type": "code",
      "execution_count": null,
      "id": "b6ce141f",
      "metadata": {
        "id": "b6ce141f",
        "outputId": "bb9aa07c-8b27-4105-938d-afd53f8932a6"
      },
      "outputs": [
        {
          "name": "stdout",
          "output_type": "stream",
          "text": [
            "df_train: (24420, 15)\n",
            "df_test: (8141, 15)\n"
          ]
        }
      ],
      "source": [
        "df_train, df_test = sklearn.model_selection.train_test_split(df)\n",
        "print(\"df_train:\", df_train.shape)\n",
        "print(\"df_test:\", df_test.shape)\n"
      ]
    },
    {
      "cell_type": "code",
      "execution_count": null,
      "id": "c592556c",
      "metadata": {
        "id": "c592556c",
        "outputId": "18bf8f12-a575-4d32-a19b-cce78df84204"
      },
      "outputs": [
        {
          "data": {
            "text/plain": [
              " <=50K    18521\n",
              " >50K      5899\n",
              "Name: target, dtype: int64"
            ]
          },
          "execution_count": 3,
          "metadata": {},
          "output_type": "execute_result"
        }
      ],
      "source": [
        "#Data exploration\n",
        "# - vizualization\n",
        "# - range\n",
        "# - correlations\n",
        "\n",
        "df_train[\"target\"].value_counts() #is target var balanced?"
      ]
    },
    {
      "cell_type": "code",
      "execution_count": null,
      "id": "1826899b",
      "metadata": {
        "id": "1826899b",
        "outputId": "2143261b-6e37-47a3-ca16-f9b97360e375"
      },
      "outputs": [
        {
          "name": "stdout",
          "output_type": "stream",
          "text": [
            "df_train_cleaned:  (22648, 15)\n",
            "df_test_cleaned:  (7514, 15)\n"
          ]
        }
      ],
      "source": [
        "#remove missing values\n",
        "df_train = df_train.replace(\" ?\", pd.NaT)\n",
        "df_train_cleaned = df_train.dropna()\n",
        "print(\"df_train_cleaned: \", df_train_cleaned.shape)\n",
        "\n",
        "df_test = df_test.replace(\" ?\", pd.NaT)\n",
        "df_test_cleaned = df_test.dropna()\n",
        "print(\"df_test_cleaned: \", df_test_cleaned.shape)"
      ]
    },
    {
      "cell_type": "code",
      "execution_count": null,
      "id": "366a3743",
      "metadata": {
        "id": "366a3743",
        "outputId": "bf1410e9-0b61-41e6-8d61-0162ce1cc299"
      },
      "outputs": [
        {
          "name": "stdout",
          "output_type": "stream",
          "text": [
            "x_train:  (22648, 14)\n",
            "y_train:  (22648,)\n",
            "x_test:  (7514, 14)\n",
            "y_test:  (7514,)\n"
          ]
        }
      ],
      "source": [
        "x_train = df_train_cleaned.drop([\"target\"], axis=1)\n",
        "y_train = df_train_cleaned[\"target\"]\n",
        "print(\"x_train: \", x_train.shape)\n",
        "print(\"y_train: \", y_train.shape)\n",
        "\n",
        "x_test = df_test_cleaned.drop([\"target\"], axis=1)\n",
        "y_test = df_test_cleaned[\"target\"]\n",
        "print(\"x_test: \", x_test.shape)\n",
        "print(\"y_test: \", y_test.shape)"
      ]
    },
    {
      "cell_type": "code",
      "execution_count": null,
      "id": "12a83e8f",
      "metadata": {
        "id": "12a83e8f",
        "outputId": "d16c6637-4a5c-4d34-bb95-fabea676d84e"
      },
      "outputs": [
        {
          "name": "stdout",
          "output_type": "stream",
          "text": [
            "x_train:  (22648, 16860)\n",
            "x_test:  (7514, 16860)\n"
          ]
        }
      ],
      "source": [
        "# Building the one-hot encoder model\n",
        "enc = sklearn.preprocessing.OneHotEncoder(handle_unknown=\"ignore\")\n",
        "enc.fit(x_train)\n",
        "\n",
        "# Encoding the categorical attributes of training data\n",
        "x_train_encoded = enc.transform(x_train).toarray()\n",
        "\n",
        "# Encoding the categorical attributes of test data\n",
        "x_test_encoded = enc.transform(x_test).toarray()\n",
        "\n",
        "print(\"x_train: \", x_train_encoded.shape)\n",
        "print(\"x_test: \", x_test_encoded.shape)"
      ]
    },
    {
      "cell_type": "code",
      "execution_count": null,
      "id": "4f0aa408",
      "metadata": {
        "id": "4f0aa408",
        "outputId": "e3b0a80a-6fb4-40ac-ef17-0f36cf9bea8e"
      },
      "outputs": [
        {
          "name": "stdout",
          "output_type": "stream",
          "text": [
            "x_train_standardized:  (22648, 16860)\n",
            "x_test_standardized:  (7514, 16860)\n"
          ]
        }
      ],
      "source": [
        "# Standardization\n",
        "# Building a standardization model\n",
        "scaler = sklearn.preprocessing.StandardScaler()\n",
        "scaler.fit(x_train_encoded)\n",
        "\n",
        "# scaling the training features\n",
        "x_train_standardized = scaler.transform(x_train_encoded)\n",
        "\n",
        "# reducing the number of test features\n",
        "x_test_standardized = scaler.transform(x_test_encoded)\n",
        "\n",
        "print(\"x_train_standardized: \", x_train_standardized.shape)\n",
        "print(\"x_test_standardized: \", x_test_standardized.shape)"
      ]
    },
    {
      "cell_type": "code",
      "execution_count": null,
      "id": "cce6dbae",
      "metadata": {
        "id": "cce6dbae",
        "outputId": "c6e54adc-dceb-4ef4-c215-0220c739cbfd"
      },
      "outputs": [
        {
          "name": "stdout",
          "output_type": "stream",
          "text": [
            "x_train_reduced:  (22648, 250)\n",
            "x_test_reduced:  (7514, 250)\n"
          ]
        }
      ],
      "source": [
        "# Dimensionality reduction\n",
        "# building a PCA model\n",
        "pca = sklearn.decomposition.PCA(n_components=250)\n",
        "pca.fit(x_train_encoded)\n",
        "\n",
        "# reducing the number of training features\n",
        "x_train_reduced = pca.transform(x_train_encoded)\n",
        "\n",
        "# reducing the number of test features\n",
        "x_test_reduced = pca.transform(x_test_encoded)\n",
        "\n",
        "print(\"x_train_reduced: \", x_train_reduced.shape)\n",
        "print(\"x_test_reduced: \", x_test_reduced.shape)"
      ]
    },
    {
      "cell_type": "code",
      "execution_count": null,
      "id": "7cfeea77",
      "metadata": {
        "id": "7cfeea77",
        "outputId": "1c095ef7-3455-4741-d318-5b1fd2bf6d03"
      },
      "outputs": [
        {
          "data": {
            "text/plain": [
              " <=50K    17000\n",
              " >50K     17000\n",
              "Name: target, dtype: int64"
            ]
          },
          "execution_count": 9,
          "metadata": {},
          "output_type": "execute_result"
        }
      ],
      "source": [
        "# Oversampling\n",
        "sm = imblearn.over_sampling.SMOTE()\n",
        "x_train_balanced, y_train_balanced = sm.fit_resample(x_train_reduced, y_train)\n",
        "y_train_balanced.value_counts()"
      ]
    },
    {
      "cell_type": "code",
      "execution_count": null,
      "id": "9320c17b",
      "metadata": {
        "id": "9320c17b",
        "outputId": "4c4b6ebc-38ee-4485-d885-dc9e53d3d2ae"
      },
      "outputs": [
        {
          "data": {
            "text/plain": [
              "SVC()"
            ]
          },
          "execution_count": 10,
          "metadata": {},
          "output_type": "execute_result"
        }
      ],
      "source": [
        "# Training a model\n",
        "model = sklearn.svm.SVC()\n",
        "model.fit(x_train_balanced, y_train_balanced)"
      ]
    },
    {
      "cell_type": "code",
      "execution_count": null,
      "id": "89dfd2e7",
      "metadata": {
        "id": "89dfd2e7",
        "outputId": "68757130-8f8b-498a-98e2-9d072fe22e8b"
      },
      "outputs": [
        {
          "data": {
            "text/plain": [
              "0.8316475911631621"
            ]
          },
          "execution_count": 11,
          "metadata": {},
          "output_type": "execute_result"
        }
      ],
      "source": [
        "# testing the model\n",
        "y_predicted = model.predict(x_test_reduced)\n",
        "accuracy = sklearn.metrics.accuracy_score(y_test, y_predicted)\n",
        "accuracy"
      ]
    }
  ],
  "metadata": {
    "kernelspec": {
      "display_name": "Python 3 (ipykernel)",
      "language": "python",
      "name": "python3"
    },
    "language_info": {
      "codemirror_mode": {
        "name": "ipython",
        "version": 3
      },
      "file_extension": ".py",
      "mimetype": "text/x-python",
      "name": "python",
      "nbconvert_exporter": "python",
      "pygments_lexer": "ipython3",
      "version": "3.8.12"
    },
    "colab": {
      "name": "my_feature_engineering-2.ipynb",
      "provenance": [],
      "include_colab_link": true
    }
  },
  "nbformat": 4,
  "nbformat_minor": 5
}
