{
  "cells": [
    {
      "cell_type": "markdown",
      "metadata": {
        "id": "view-in-github",
        "colab_type": "text"
      },
      "source": [
        "<a href=\"https://colab.research.google.com/github/spyingcyclops/gisma/blob/main/my_linear_regression.ipynb\" target=\"_parent\"><img src=\"https://colab.research.google.com/assets/colab-badge.svg\" alt=\"Open In Colab\"/></a>"
      ]
    },
    {
      "cell_type": "markdown",
      "id": "korean-wednesday",
      "metadata": {
        "id": "korean-wednesday"
      },
      "source": [
        "# Linear Regression\n",
        "You should build a machine learning pipeline using a linear regression model. In particular, you should do the following:\n",
        "- Load the `housing` dataset using [Pandas](https://pandas.pydata.org/docs/reference/api/pandas.read_csv.html). You can find this dataset in the datasets folder.\n",
        "- Split the dataset into training and test sets using [Scikit-Learn](https://scikit-learn.org/stable/modules/generated/sklearn.model_selection.train_test_split.html). \n",
        "- Train and test a linear regression model using [Scikit-Learn](https://scikit-learn.org/stable/modules/generated/sklearn.linear_model.LinearRegression.html).\n",
        "- Check the documentation to identify the most important hyperparameters, attributes, and methods of the model. Use them in practice."
      ]
    },
    {
      "cell_type": "markdown",
      "id": "38e171fb",
      "metadata": {
        "id": "38e171fb"
      },
      "source": [
        "## Importing libraries"
      ]
    },
    {
      "cell_type": "code",
      "execution_count": null,
      "id": "5aa95a86",
      "metadata": {
        "id": "5aa95a86"
      },
      "outputs": [],
      "source": [
        "import pandas as pd # give it a shorter name\n",
        "import sklearn.model_selection\n",
        "import sklearn.linear_model\n",
        "import sklearn.metrics"
      ]
    },
    {
      "cell_type": "markdown",
      "id": "a1a696df",
      "metadata": {
        "id": "a1a696df"
      },
      "source": [
        "## Loading the Dataset"
      ]
    },
    {
      "cell_type": "code",
      "execution_count": null,
      "id": "e65b5229",
      "metadata": {
        "id": "e65b5229",
        "outputId": "6fe2eb38-dded-40db-9361-98a1dba190fc"
      },
      "outputs": [
        {
          "data": {
            "text/html": [
              "<div>\n",
              "<style scoped>\n",
              "    .dataframe tbody tr th:only-of-type {\n",
              "        vertical-align: middle;\n",
              "    }\n",
              "\n",
              "    .dataframe tbody tr th {\n",
              "        vertical-align: top;\n",
              "    }\n",
              "\n",
              "    .dataframe thead th {\n",
              "        text-align: right;\n",
              "    }\n",
              "</style>\n",
              "<table border=\"1\" class=\"dataframe\">\n",
              "  <thead>\n",
              "    <tr style=\"text-align: right;\">\n",
              "      <th></th>\n",
              "      <th>price</th>\n",
              "      <th>area</th>\n",
              "      <th>bedrooms</th>\n",
              "      <th>bathrooms</th>\n",
              "      <th>stories</th>\n",
              "      <th>stories.1</th>\n",
              "      <th>guestroom</th>\n",
              "      <th>basement</th>\n",
              "      <th>hotwaterheating</th>\n",
              "      <th>airconditioning</th>\n",
              "      <th>parking</th>\n",
              "      <th>prefarea</th>\n",
              "      <th>furnishingstatus</th>\n",
              "    </tr>\n",
              "    <tr>\n",
              "      <th>id</th>\n",
              "      <th></th>\n",
              "      <th></th>\n",
              "      <th></th>\n",
              "      <th></th>\n",
              "      <th></th>\n",
              "      <th></th>\n",
              "      <th></th>\n",
              "      <th></th>\n",
              "      <th></th>\n",
              "      <th></th>\n",
              "      <th></th>\n",
              "      <th></th>\n",
              "      <th></th>\n",
              "    </tr>\n",
              "  </thead>\n",
              "  <tbody>\n",
              "    <tr>\n",
              "      <th>0</th>\n",
              "      <td>13300000</td>\n",
              "      <td>7420</td>\n",
              "      <td>4</td>\n",
              "      <td>2</td>\n",
              "      <td>3</td>\n",
              "      <td>1</td>\n",
              "      <td>0</td>\n",
              "      <td>0</td>\n",
              "      <td>0</td>\n",
              "      <td>1</td>\n",
              "      <td>2</td>\n",
              "      <td>1</td>\n",
              "      <td>1.0</td>\n",
              "    </tr>\n",
              "    <tr>\n",
              "      <th>1</th>\n",
              "      <td>12250000</td>\n",
              "      <td>8960</td>\n",
              "      <td>4</td>\n",
              "      <td>4</td>\n",
              "      <td>4</td>\n",
              "      <td>1</td>\n",
              "      <td>0</td>\n",
              "      <td>0</td>\n",
              "      <td>0</td>\n",
              "      <td>1</td>\n",
              "      <td>3</td>\n",
              "      <td>0</td>\n",
              "      <td>1.0</td>\n",
              "    </tr>\n",
              "    <tr>\n",
              "      <th>2</th>\n",
              "      <td>12250000</td>\n",
              "      <td>9960</td>\n",
              "      <td>3</td>\n",
              "      <td>2</td>\n",
              "      <td>2</td>\n",
              "      <td>1</td>\n",
              "      <td>0</td>\n",
              "      <td>1</td>\n",
              "      <td>0</td>\n",
              "      <td>0</td>\n",
              "      <td>2</td>\n",
              "      <td>1</td>\n",
              "      <td>0.5</td>\n",
              "    </tr>\n",
              "    <tr>\n",
              "      <th>3</th>\n",
              "      <td>12215000</td>\n",
              "      <td>7500</td>\n",
              "      <td>4</td>\n",
              "      <td>2</td>\n",
              "      <td>2</td>\n",
              "      <td>1</td>\n",
              "      <td>0</td>\n",
              "      <td>1</td>\n",
              "      <td>0</td>\n",
              "      <td>1</td>\n",
              "      <td>3</td>\n",
              "      <td>1</td>\n",
              "      <td>1.0</td>\n",
              "    </tr>\n",
              "    <tr>\n",
              "      <th>4</th>\n",
              "      <td>11410000</td>\n",
              "      <td>7420</td>\n",
              "      <td>4</td>\n",
              "      <td>1</td>\n",
              "      <td>2</td>\n",
              "      <td>1</td>\n",
              "      <td>1</td>\n",
              "      <td>1</td>\n",
              "      <td>0</td>\n",
              "      <td>1</td>\n",
              "      <td>2</td>\n",
              "      <td>0</td>\n",
              "      <td>1.0</td>\n",
              "    </tr>\n",
              "  </tbody>\n",
              "</table>\n",
              "</div>"
            ],
            "text/plain": [
              "       price  area  bedrooms  bathrooms  stories  stories.1  guestroom  \\\n",
              "id                                                                       \n",
              "0   13300000  7420         4          2        3          1          0   \n",
              "1   12250000  8960         4          4        4          1          0   \n",
              "2   12250000  9960         3          2        2          1          0   \n",
              "3   12215000  7500         4          2        2          1          0   \n",
              "4   11410000  7420         4          1        2          1          1   \n",
              "\n",
              "    basement  hotwaterheating  airconditioning  parking  prefarea  \\\n",
              "id                                                                  \n",
              "0          0                0                1        2         1   \n",
              "1          0                0                1        3         0   \n",
              "2          1                0                0        2         1   \n",
              "3          1                0                1        3         1   \n",
              "4          1                0                1        2         0   \n",
              "\n",
              "    furnishingstatus  \n",
              "id                    \n",
              "0                1.0  \n",
              "1                1.0  \n",
              "2                0.5  \n",
              "3                1.0  \n",
              "4                1.0  "
            ]
          },
          "execution_count": 8,
          "metadata": {},
          "output_type": "execute_result"
        }
      ],
      "source": [
        "# how do I load a dataset using Pandas? - google search finds pd.read_csv(fname)\n",
        "# needs file location and name.\n",
        "# df var, for data frame. head() prints the first 5 rows.\n",
        "\n",
        "df = pd.read_csv(\"../../datasets/housing.csv\")\n",
        "# set the ID column as the index\n",
        "df = df.set_index(\"id\")\n",
        "df.head()"
      ]
    },
    {
      "cell_type": "markdown",
      "id": "4bd74c05",
      "metadata": {
        "id": "4bd74c05"
      },
      "source": [
        "## Split into train and test sets"
      ]
    },
    {
      "cell_type": "code",
      "execution_count": null,
      "id": "41c42ed5",
      "metadata": {
        "id": "41c42ed5",
        "outputId": "6271c2c4-5763-4708-e789-4d060f189114"
      },
      "outputs": [
        {
          "name": "stdout",
          "output_type": "stream",
          "text": [
            "df: (545, 13)\n",
            "x_train: (408, 12)\n",
            "x_test: (137, 12)\n",
            "y_train: (408,)\n",
            "y_test: (137,)\n"
          ]
        }
      ],
      "source": [
        "x = df.drop([\"price\"], axis=1)\n",
        "y = df[\"price\"]\n",
        "\n",
        "x_train, x_test, y_train, y_test = sklearn.model_selection.train_test_split(x, y)\n",
        "\n",
        "# shape returns the (no. rows, no. cols) to give you a quick view of the data fram\n",
        "\n",
        "print(\"df:\", df.shape) # whole dataset\n",
        "print(\"x_train:\", x_train.shape) # minus the col we removed\n",
        "print(\"x_test:\", x_test.shape)\n",
        "print(\"y_train:\", y_train.shape) # only one col\n",
        "print(\"y_test:\", y_test.shape)\n"
      ]
    },
    {
      "cell_type": "markdown",
      "id": "a3578df3",
      "metadata": {
        "id": "a3578df3"
      },
      "source": [
        "## Training a model"
      ]
    },
    {
      "cell_type": "code",
      "execution_count": null,
      "id": "076fcb25",
      "metadata": {
        "id": "076fcb25",
        "outputId": "703fa11b-4e58-4cd2-de4c-b44e51a9d51c"
      },
      "outputs": [
        {
          "data": {
            "text/plain": [
              "LinearRegression()"
            ]
          },
          "execution_count": 29,
          "metadata": {},
          "output_type": "execute_result"
        }
      ],
      "source": [
        "model = sklearn.linear_model.LinearRegression()\n",
        "model.fit(x_train, y_train)"
      ]
    },
    {
      "cell_type": "markdown",
      "id": "8608c725",
      "metadata": {
        "id": "8608c725"
      },
      "source": [
        "## Testing the trained model"
      ]
    },
    {
      "cell_type": "code",
      "execution_count": null,
      "id": "9267ab33",
      "metadata": {
        "id": "9267ab33",
        "outputId": "88b79fd3-7992-4d86-9132-af2e6140f3f5"
      },
      "outputs": [
        {
          "data": {
            "text/plain": [
              "1222099641127.5662"
            ]
          },
          "execution_count": 32,
          "metadata": {},
          "output_type": "execute_result"
        }
      ],
      "source": [
        "y_predicted = model.predict(x_test)\n",
        "\n",
        "# next, we will used \"mean squared error\" to compare predicted valued with actual (test) values. Lower is better.\n",
        "\n",
        "mse = sklearn.metrics.mean_squared_error(y_test, y_predicted)\n",
        "mse"
      ]
    }
  ],
  "metadata": {
    "kernelspec": {
      "display_name": "Python 3 (ipykernel)",
      "language": "python",
      "name": "python3"
    },
    "language_info": {
      "codemirror_mode": {
        "name": "ipython",
        "version": 3
      },
      "file_extension": ".py",
      "mimetype": "text/x-python",
      "name": "python",
      "nbconvert_exporter": "python",
      "pygments_lexer": "ipython3",
      "version": "3.8.12"
    },
    "colab": {
      "name": "my_linear_regression.ipynb",
      "provenance": [],
      "include_colab_link": true
    }
  },
  "nbformat": 4,
  "nbformat_minor": 5
}