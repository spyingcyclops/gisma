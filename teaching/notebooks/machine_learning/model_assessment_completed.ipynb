{
 "cells": [
  {
   "cell_type": "markdown",
   "id": "korean-wednesday",
   "metadata": {},
   "source": [
    "# Model Assessment\n",
    "You should build a machine learning pipeline with a complete model assessment step. In particular, you should do the following:\n",
    "- Load the `mnist` dataset using [Pandas](https://pandas.pydata.org/docs/reference/api/pandas.read_csv.html). You can find this dataset in the datasets folder.\n",
    "- Split the dataset into training and test sets using [Scikit-Learn](https://scikit-learn.org/stable/modules/generated/sklearn.model_selection.train_test_split.html). \n",
    "- Choose a few machine learning algorithms, such as [KNN](https://scikit-learn.org/stable/modules/generated/sklearn.neighbors.KNeighborsClassifier.html), [decision tree](https://scikit-learn.org/stable/modules/generated/sklearn.tree.DecisionTreeClassifier.html), and [SVM](https://scikit-learn.org/stable/modules/generated/sklearn.svm.SVC.html).\n",
    "- Define a grid of hyperparameters for every selected model.\n",
    "- Conduct [grid search](https://scikit-learn.org/stable/modules/generated/sklearn.model_selection.GridSearchCV.html) using k-fold cross-validation on the training set to find out the best model (i.e., the best algorithm and its hyperparameters).\n",
    "- Train the best model on the whole training set.\n",
    "- Test the trained model on the test set and report various [evaluation metrics](https://scikit-learn.org/0.15/modules/model_evaluation.html).  \n",
    "- Check the documentation to identify the most important hyperparameters, attributes, and methods. Use them in practice."
   ]
  },
  {
   "cell_type": "markdown",
   "id": "968fbec2",
   "metadata": {},
   "source": [
    "## Importing Modules"
   ]
  },
  {
   "cell_type": "code",
   "execution_count": 1,
   "id": "infrared-copper",
   "metadata": {},
   "outputs": [],
   "source": [
    "import pandas as pd\n",
    "import sklearn.model_selection\n",
    "import sklearn.metrics\n",
    "import sklearn.svm\n",
    "import sklearn.tree\n",
    "import sklearn.neighbors\n",
    "import plotly.express as px"
   ]
  },
  {
   "cell_type": "markdown",
   "id": "dcbcbb9d",
   "metadata": {},
   "source": [
    "## Loading the Dataset"
   ]
  },
  {
   "cell_type": "code",
   "execution_count": 2,
   "id": "668369b8",
   "metadata": {},
   "outputs": [
    {
     "data": {
      "text/html": [
       "<div>\n",
       "<style scoped>\n",
       "    .dataframe tbody tr th:only-of-type {\n",
       "        vertical-align: middle;\n",
       "    }\n",
       "\n",
       "    .dataframe tbody tr th {\n",
       "        vertical-align: top;\n",
       "    }\n",
       "\n",
       "    .dataframe thead th {\n",
       "        text-align: right;\n",
       "    }\n",
       "</style>\n",
       "<table border=\"1\" class=\"dataframe\">\n",
       "  <thead>\n",
       "    <tr style=\"text-align: right;\">\n",
       "      <th></th>\n",
       "      <th>class</th>\n",
       "      <th>pixel1</th>\n",
       "      <th>pixel2</th>\n",
       "      <th>pixel3</th>\n",
       "      <th>pixel4</th>\n",
       "      <th>pixel5</th>\n",
       "      <th>pixel6</th>\n",
       "      <th>pixel7</th>\n",
       "      <th>pixel8</th>\n",
       "      <th>pixel9</th>\n",
       "      <th>...</th>\n",
       "      <th>pixel775</th>\n",
       "      <th>pixel776</th>\n",
       "      <th>pixel777</th>\n",
       "      <th>pixel778</th>\n",
       "      <th>pixel779</th>\n",
       "      <th>pixel780</th>\n",
       "      <th>pixel781</th>\n",
       "      <th>pixel782</th>\n",
       "      <th>pixel783</th>\n",
       "      <th>pixel784</th>\n",
       "    </tr>\n",
       "    <tr>\n",
       "      <th>id</th>\n",
       "      <th></th>\n",
       "      <th></th>\n",
       "      <th></th>\n",
       "      <th></th>\n",
       "      <th></th>\n",
       "      <th></th>\n",
       "      <th></th>\n",
       "      <th></th>\n",
       "      <th></th>\n",
       "      <th></th>\n",
       "      <th></th>\n",
       "      <th></th>\n",
       "      <th></th>\n",
       "      <th></th>\n",
       "      <th></th>\n",
       "      <th></th>\n",
       "      <th></th>\n",
       "      <th></th>\n",
       "      <th></th>\n",
       "      <th></th>\n",
       "      <th></th>\n",
       "    </tr>\n",
       "  </thead>\n",
       "  <tbody>\n",
       "    <tr>\n",
       "      <th>31953</th>\n",
       "      <td>5</td>\n",
       "      <td>0</td>\n",
       "      <td>0</td>\n",
       "      <td>0</td>\n",
       "      <td>0</td>\n",
       "      <td>0</td>\n",
       "      <td>0</td>\n",
       "      <td>0</td>\n",
       "      <td>0</td>\n",
       "      <td>0</td>\n",
       "      <td>...</td>\n",
       "      <td>0</td>\n",
       "      <td>0</td>\n",
       "      <td>0</td>\n",
       "      <td>0</td>\n",
       "      <td>0</td>\n",
       "      <td>0</td>\n",
       "      <td>0</td>\n",
       "      <td>0</td>\n",
       "      <td>0</td>\n",
       "      <td>0</td>\n",
       "    </tr>\n",
       "    <tr>\n",
       "      <th>34452</th>\n",
       "      <td>8</td>\n",
       "      <td>0</td>\n",
       "      <td>0</td>\n",
       "      <td>0</td>\n",
       "      <td>0</td>\n",
       "      <td>0</td>\n",
       "      <td>0</td>\n",
       "      <td>0</td>\n",
       "      <td>0</td>\n",
       "      <td>0</td>\n",
       "      <td>...</td>\n",
       "      <td>0</td>\n",
       "      <td>0</td>\n",
       "      <td>0</td>\n",
       "      <td>0</td>\n",
       "      <td>0</td>\n",
       "      <td>0</td>\n",
       "      <td>0</td>\n",
       "      <td>0</td>\n",
       "      <td>0</td>\n",
       "      <td>0</td>\n",
       "    </tr>\n",
       "    <tr>\n",
       "      <th>60897</th>\n",
       "      <td>5</td>\n",
       "      <td>0</td>\n",
       "      <td>0</td>\n",
       "      <td>0</td>\n",
       "      <td>0</td>\n",
       "      <td>0</td>\n",
       "      <td>0</td>\n",
       "      <td>0</td>\n",
       "      <td>0</td>\n",
       "      <td>0</td>\n",
       "      <td>...</td>\n",
       "      <td>0</td>\n",
       "      <td>0</td>\n",
       "      <td>0</td>\n",
       "      <td>0</td>\n",
       "      <td>0</td>\n",
       "      <td>0</td>\n",
       "      <td>0</td>\n",
       "      <td>0</td>\n",
       "      <td>0</td>\n",
       "      <td>0</td>\n",
       "    </tr>\n",
       "  </tbody>\n",
       "</table>\n",
       "<p>3 rows × 785 columns</p>\n",
       "</div>"
      ],
      "text/plain": [
       "       class  pixel1  pixel2  pixel3  pixel4  pixel5  pixel6  pixel7  pixel8  \\\n",
       "id                                                                             \n",
       "31953      5       0       0       0       0       0       0       0       0   \n",
       "34452      8       0       0       0       0       0       0       0       0   \n",
       "60897      5       0       0       0       0       0       0       0       0   \n",
       "\n",
       "       pixel9  ...  pixel775  pixel776  pixel777  pixel778  pixel779  \\\n",
       "id             ...                                                     \n",
       "31953       0  ...         0         0         0         0         0   \n",
       "34452       0  ...         0         0         0         0         0   \n",
       "60897       0  ...         0         0         0         0         0   \n",
       "\n",
       "       pixel780  pixel781  pixel782  pixel783  pixel784  \n",
       "id                                                       \n",
       "31953         0         0         0         0         0  \n",
       "34452         0         0         0         0         0  \n",
       "60897         0         0         0         0         0  \n",
       "\n",
       "[3 rows x 785 columns]"
      ]
     },
     "execution_count": 2,
     "metadata": {},
     "output_type": "execute_result"
    }
   ],
   "source": [
    "df = pd.read_csv(\"../../datasets/mnist.csv\")\n",
    "df = df.set_index(\"id\")\n",
    "df.head(3)"
   ]
  },
  {
   "cell_type": "markdown",
   "id": "04326605",
   "metadata": {},
   "source": [
    "## Splitting the Data into Training and Test Sets"
   ]
  },
  {
   "cell_type": "code",
   "execution_count": 3,
   "id": "3ab0edc6",
   "metadata": {},
   "outputs": [],
   "source": [
    "x = df.drop([\"class\"], axis=1)\n",
    "y = df[\"class\"]\n",
    "\n",
    "x_train, x_test, y_train, y_test = sklearn.model_selection.train_test_split(x, y)"
   ]
  },
  {
   "cell_type": "markdown",
   "id": "f37c1931",
   "metadata": {},
   "source": [
    "## Model Selection and Hyperparameter Tuning"
   ]
  },
  {
   "cell_type": "markdown",
   "id": "38577636",
   "metadata": {},
   "source": [
    "### Decistion Tree"
   ]
  },
  {
   "cell_type": "code",
   "execution_count": 4,
   "id": "bbab1f86",
   "metadata": {},
   "outputs": [
    {
     "name": "stdout",
     "output_type": "stream",
     "text": [
      "Accuracy of best decision tree classfier = 0.77\n",
      "Best found hyperparameters of decision tree classfier = {'criterion': 'entropy', 'max_depth': 19, 'min_samples_split': 2}\n"
     ]
    }
   ],
   "source": [
    "parameters_grid = {\n",
    "    \"criterion\": [\"gini\", \"entropy\"], \n",
    "    \"max_depth\": range(1, 20, 3),   # [1, 4, 7, ...]\n",
    "    \"min_samples_split\": range(2, 20, 3)\n",
    "}\n",
    "model_1 = sklearn.model_selection.GridSearchCV(sklearn.tree.DecisionTreeClassifier(), \n",
    "                                               parameters_grid, scoring=\"accuracy\", cv=5, n_jobs=-1)\n",
    "model_1.fit(x_train, y_train)\n",
    "print(\"Accuracy of best decision tree classfier = {:.2f}\".format(model_1.best_score_))\n",
    "print(\"Best found hyperparameters of decision tree classfier = {}\".format(model_1.best_params_))"
   ]
  },
  {
   "cell_type": "markdown",
   "id": "82019f70",
   "metadata": {},
   "source": [
    "### SVM"
   ]
  },
  {
   "cell_type": "code",
   "execution_count": 5,
   "id": "4516ffe4",
   "metadata": {},
   "outputs": [
    {
     "name": "stdout",
     "output_type": "stream",
     "text": [
      "Accuracy of best SVM classfier = 0.95\n",
      "Best found hyperparameters of SVM classifier = {'C': 10, 'kernel': 'rbf'}\n"
     ]
    }
   ],
   "source": [
    "parameters_grid = {\n",
    "    \"kernel\": [\"linear\", \"rbf\", \"poly\"], \n",
    "    \"C\": [0.001, 0.01, 0.1, 1, 10, 100]\n",
    "}\n",
    "model_2 = sklearn.model_selection.GridSearchCV(sklearn.svm.SVC(), \n",
    "                                               parameters_grid, scoring=\"accuracy\", cv=5, n_jobs=-1)\n",
    "model_2.fit(x_train, y_train)\n",
    "print(\"Accuracy of best SVM classfier = {:.2f}\".format(model_2.best_score_))\n",
    "print(\"Best found hyperparameters of SVM classifier = {}\".format(model_2.best_params_))"
   ]
  },
  {
   "cell_type": "markdown",
   "id": "4a62a67d",
   "metadata": {},
   "source": [
    "### KNN"
   ]
  },
  {
   "cell_type": "code",
   "execution_count": 6,
   "id": "839f5ab4",
   "metadata": {},
   "outputs": [
    {
     "name": "stdout",
     "output_type": "stream",
     "text": [
      "Accuracy of best KNN classfier = 0.92\n",
      "Best found hyperparameters of KNN classifier = {'metric': 'minkowski', 'n_neighbors': 5}\n"
     ]
    }
   ],
   "source": [
    "parameters_grid = {\n",
    "    \"n_neighbors\": [1, 5, 10, 15, 20], \n",
    "    \"metric\": [\"minkowski\", \"euclidean\", \"manhattan\"]\n",
    "}\n",
    "model_3 = sklearn.model_selection.GridSearchCV(sklearn.neighbors.KNeighborsClassifier(),\n",
    "                                               parameters_grid, scoring=\"accuracy\", cv=5, n_jobs=-1)\n",
    "model_3.fit(x_train, y_train)\n",
    "print(\"Accuracy of best KNN classfier = {:.2f}\".format(model_3.best_score_))\n",
    "print(\"Best found hyperparameters of KNN classifier = {}\".format(model_3.best_params_))"
   ]
  },
  {
   "cell_type": "markdown",
   "id": "ae7d21a2",
   "metadata": {},
   "source": [
    "## Testing the Best Model"
   ]
  },
  {
   "cell_type": "code",
   "execution_count": 7,
   "id": "75792a9a",
   "metadata": {},
   "outputs": [
    {
     "name": "stdout",
     "output_type": "stream",
     "text": [
      "Accuracy = 0.955\n",
      "Precision = [0.97849462 0.9765625  0.94186047 0.94736842 0.95698925 0.87096774\n",
      " 0.98958333 0.99065421 0.9375     0.94680851]\n",
      "Recall = [1.         0.96899225 0.92045455 0.95575221 0.94680851 0.95294118\n",
      " 0.95       0.95495495 0.94736842 0.94680851]\n",
      "F1-Score = [0.98913043 0.97276265 0.93103448 0.95154185 0.95187166 0.91011236\n",
      " 0.96938776 0.97247706 0.94240838 0.94680851]\n",
      "Confusion Matrix:\n",
      " [[ 91   0   0   0   0   0   0   0   0   0]\n",
      " [  0 125   1   1   0   2   0   0   0   0]\n",
      " [  1   1  81   1   2   0   1   0   1   0]\n",
      " [  0   0   1 108   0   3   0   1   0   0]\n",
      " [  0   0   1   0  89   1   0   0   0   3]\n",
      " [  1   0   0   1   0  81   0   0   2   0]\n",
      " [  0   0   1   0   0   3  95   0   1   0]\n",
      " [  0   1   1   0   1   0   0 106   1   1]\n",
      " [  0   0   0   2   0   2   0   0  90   1]\n",
      " [  0   1   0   1   1   1   0   0   1  89]]\n"
     ]
    }
   ],
   "source": [
    "y_predicted = model_2.predict(x_test)\n",
    "accuracy = sklearn.metrics.accuracy_score(y_test, y_predicted)\n",
    "cm = sklearn.metrics.confusion_matrix(y_test, y_predicted)\n",
    "precision, recall, f1, support = sklearn.metrics.precision_recall_fscore_support(y_test, y_predicted)\n",
    "\n",
    "print(\"Accuracy =\", accuracy)\n",
    "print(\"Precision =\", precision)\n",
    "print(\"Recall =\", recall)\n",
    "print(\"F1-Score =\", f1)\n",
    "print(\"Confusion Matrix:\\n\", cm)"
   ]
  },
  {
   "cell_type": "code",
   "execution_count": null,
   "id": "6bef4558",
   "metadata": {},
   "outputs": [],
   "source": []
  }
 ],
 "metadata": {
  "kernelspec": {
   "display_name": "Python 3 (ipykernel)",
   "language": "python",
   "name": "python3"
  },
  "language_info": {
   "codemirror_mode": {
    "name": "ipython",
    "version": 3
   },
   "file_extension": ".py",
   "mimetype": "text/x-python",
   "name": "python",
   "nbconvert_exporter": "python",
   "pygments_lexer": "ipython3",
   "version": "3.8.12"
  }
 },
 "nbformat": 4,
 "nbformat_minor": 5
}
