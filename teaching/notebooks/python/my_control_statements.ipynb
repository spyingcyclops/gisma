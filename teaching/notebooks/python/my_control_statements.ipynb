{
  "cells": [
    {
      "cell_type": "markdown",
      "metadata": {
        "id": "view-in-github",
        "colab_type": "text"
      },
      "source": [
        "<a href=\"https://colab.research.google.com/github/spyingcyclops/gisma/blob/main/my_control_statements.ipynb\" target=\"_parent\"><img src=\"https://colab.research.google.com/assets/colab-badge.svg\" alt=\"Open In Colab\"/></a>"
      ]
    },
    {
      "cell_type": "markdown",
      "id": "broad-significance",
      "metadata": {
        "id": "broad-significance"
      },
      "source": [
        "# Control Statements"
      ]
    },
    {
      "cell_type": "markdown",
      "id": "mighty-picnic",
      "metadata": {
        "id": "mighty-picnic"
      },
      "source": [
        "## Check 2 Numbers are Dividable\n",
        "Write a Python prgoram that takes 2 numbers and prints whether the first one is dividable by the second one or not. For example, if the user inputs 10 and 5, the program should print `\"10 is dividable by 5\"`. "
      ]
    },
    {
      "cell_type": "code",
      "execution_count": null,
      "id": "everyday-league",
      "metadata": {
        "id": "everyday-league",
        "outputId": "6f488ba0-1ea5-41c9-e9a5-4e0e43bd7c73"
      },
      "outputs": [
        {
          "name": "stdout",
          "output_type": "stream",
          "text": [
            "10 is dividable by 5\n"
          ]
        }
      ],
      "source": [
        "x = 10\n",
        "y = 5\n",
        "\n",
        "if x % y == 0:\n",
        "    print(f\"{x} is dividable by {y}\")\n",
        "else:\n",
        "    print(f\"{x} is not dividable by {y}\")"
      ]
    },
    {
      "cell_type": "markdown",
      "id": "certified-smell",
      "metadata": {
        "id": "certified-smell"
      },
      "source": [
        "## Check a Website Address Has .com\n",
        "Write a Python program that takes a website address and prints out whether it ends with `.com` or not. For example, given the string `\"www.google.com\"`, the program should print `\"www.google.com ends with .com\"`."
      ]
    },
    {
      "cell_type": "code",
      "execution_count": null,
      "id": "framed-index",
      "metadata": {
        "id": "framed-index",
        "outputId": "ccfc1eb6-c267-4420-f87e-f5894b1b0843"
      },
      "outputs": [
        {
          "name": "stdout",
          "output_type": "stream",
          "text": [
            "www.string.com ends with .com\n"
          ]
        }
      ],
      "source": [
        "x = \"www.string.com\"\n",
        "\n",
        "if x[-4:] == \".com\":\n",
        "    print(f\"{x} ends with .com\")\n",
        "else:\n",
        "    print(f\"{x} does not end with .com\")\n"
      ]
    },
    {
      "cell_type": "markdown",
      "id": "lonely-hollow",
      "metadata": {
        "id": "lonely-hollow"
      },
      "source": [
        "## Remove Non-String List Elements\n",
        "Write a Python program that takes a list and create another list that only contains string elements of the first list. For example, given the list `[1, \"hello\", 4.3, True, \"bye\"]`, the program should define a list `[\"hello\", \"bye\"]`."
      ]
    },
    {
      "cell_type": "code",
      "execution_count": null,
      "id": "compound-commissioner",
      "metadata": {
        "id": "compound-commissioner",
        "outputId": "63052187-63fd-4e10-ca6b-da553ac18a39"
      },
      "outputs": [
        {
          "data": {
            "text/plain": [
              "['hello', 'how', 'bye', 'False']"
            ]
          },
          "execution_count": 59,
          "metadata": {},
          "output_type": "execute_result"
        }
      ],
      "source": [
        "l1 = [1, \"hello\", 4.3, \"how\", True, \"bye\", 500, False, \"False\"]\n",
        "l2 = []\n",
        "\n",
        "for i in l1:\n",
        "    if isinstance(i,str):\n",
        "        l2.append(i)\n",
        "l2"
      ]
    },
    {
      "cell_type": "markdown",
      "id": "conceptual-lobby",
      "metadata": {
        "id": "conceptual-lobby"
      },
      "source": [
        "## Compare Numbers\n",
        "Write a Python program that takes an integer, compares it to a predefined number, and tells the user to guess a larger or smaller number. For example, suppose the predefined number is 10 and the user inputs 7. The program should print `\"7 is too small!\"`."
      ]
    },
    {
      "cell_type": "code",
      "execution_count": null,
      "id": "religious-leonard",
      "metadata": {
        "id": "religious-leonard",
        "outputId": "1589c3e7-fe6a-4d44-d918-e08c1c00592b"
      },
      "outputs": [
        {
          "name": "stdout",
          "output_type": "stream",
          "text": [
            "Too big!\n"
          ]
        }
      ],
      "source": [
        "z = 10\n",
        "x = 17\n",
        "\n",
        "if x == z:\n",
        "    print(\"Well done, you got it!\")\n",
        "elif x < z:\n",
        "    print(\"Too small!\")\n",
        "elif x > z:\n",
        "    print(\"Too big!\")"
      ]
    },
    {
      "cell_type": "markdown",
      "id": "gorgeous-knitting",
      "metadata": {
        "id": "gorgeous-knitting"
      },
      "source": [
        "## Sum Even Numbers\n",
        "Write a Python program that computes the sum of even numbers in a given list of integers. "
      ]
    },
    {
      "cell_type": "code",
      "execution_count": null,
      "id": "artificial-professor",
      "metadata": {
        "id": "artificial-professor",
        "outputId": "28096e16-6bb2-4f7d-c49b-bbcd73f755c3"
      },
      "outputs": [
        {
          "data": {
            "text/plain": [
              "12"
            ]
          },
          "execution_count": 26,
          "metadata": {},
          "output_type": "execute_result"
        }
      ],
      "source": [
        "list = [1,3,2,6,4,7,9]\n",
        "\n",
        "total = 0\n",
        "\n",
        "for i in list:\n",
        "    if i % 2 == 0:\n",
        "        total += i\n",
        "\n",
        "total"
      ]
    },
    {
      "cell_type": "markdown",
      "id": "e3044c58",
      "metadata": {
        "id": "e3044c58"
      },
      "source": [
        "## Find All Divisors\n",
        "Write a Python prgoram that find all divisors of a given positive integer and store them in a list. For example, given 10, the resulting list should be `[1, 2, 4, 5, 10]`."
      ]
    },
    {
      "cell_type": "code",
      "execution_count": null,
      "id": "9bee6850",
      "metadata": {
        "id": "9bee6850",
        "outputId": "b01d6b55-df00-4408-ec1a-2b60ef82234f"
      },
      "outputs": [
        {
          "data": {
            "text/plain": [
              "[1, 2, 4, 5, 10, 20, 25, 50, 100]"
            ]
          },
          "execution_count": 45,
          "metadata": {},
          "output_type": "execute_result"
        }
      ],
      "source": [
        "x = 100\n",
        "divisors = []\n",
        "for i in range(1, (x+1)):\n",
        "    if x % i == 0:\n",
        "        divisors.append(i)\n",
        "divisors"
      ]
    },
    {
      "cell_type": "markdown",
      "id": "41b462e9",
      "metadata": {
        "id": "41b462e9"
      },
      "source": [
        "## Find the Largest Word\n",
        "Write a Python program that finds the largest word in a given input string. For example, given the string `\"hello how are you\"`, the program should print `\"hello\"`."
      ]
    },
    {
      "cell_type": "code",
      "execution_count": null,
      "id": "13037cad",
      "metadata": {
        "id": "13037cad",
        "outputId": "b76e2695-158a-472e-85b7-66688b1d725d"
      },
      "outputs": [
        {
          "data": {
            "text/plain": [
              "'hello'"
            ]
          },
          "execution_count": 57,
          "metadata": {},
          "output_type": "execute_result"
        }
      ],
      "source": [
        "s = \"hello how are you\"\n",
        "l = s.split()\n",
        "\n",
        "longest = \"\"\n",
        "\n",
        "for i in l:\n",
        "    if len(i) > len(longest):\n",
        "        longest = i\n",
        "\n",
        "longest"
      ]
    },
    {
      "cell_type": "markdown",
      "id": "3b71775e",
      "metadata": {
        "id": "3b71775e"
      },
      "source": [
        "## Count the Frequency of List Elements\n",
        "Write a Python program that counts the frequency of each element in a given list and store them in a dictionary. For example, given the list `[111, \"hello\", 222, \"hello\", 111]`, the program should define a dictionary `{111: 2, \"hello\": 2, 222: 1}`."
      ]
    },
    {
      "cell_type": "code",
      "execution_count": null,
      "id": "fdb69cdb",
      "metadata": {
        "id": "fdb69cdb",
        "outputId": "481582e5-b193-4a54-86dc-a0700470e95e"
      },
      "outputs": [
        {
          "data": {
            "text/plain": [
              "{111: 2, 'hello': 2, 222: 1}"
            ]
          },
          "execution_count": 64,
          "metadata": {},
          "output_type": "execute_result"
        }
      ],
      "source": [
        "l1 = [111, \"hello\", 222, \"hello\", 111]\n",
        "freq = {}\n",
        "for item in l1:\n",
        "    if (item in freq):\n",
        "        freq[item] += 1\n",
        "    else:\n",
        "        freq[item] = 1\n",
        "freq"
      ]
    },
    {
      "cell_type": "markdown",
      "id": "1756ced4",
      "metadata": {
        "id": "1756ced4"
      },
      "source": [
        "## Capitalize the Words\n",
        "Write a Python program that takes a string containing words that are separated by whitespace, capitalizes the first character of each word, and prints the result. For example, given the string `\"hello how are you\"`, the program should print `\"Hello How Are You\"`."
      ]
    },
    {
      "cell_type": "code",
      "execution_count": null,
      "id": "c03c20a1",
      "metadata": {
        "id": "c03c20a1",
        "outputId": "8b2e20e1-79b5-43df-b25e-69d7c7ce093c"
      },
      "outputs": [
        {
          "data": {
            "text/plain": [
              "'Hello How Are You'"
            ]
          },
          "execution_count": 67,
          "metadata": {},
          "output_type": "execute_result"
        }
      ],
      "source": [
        "s = \"hello how are you\"\n",
        "s.title()"
      ]
    }
  ],
  "metadata": {
    "kernelspec": {
      "display_name": "Python 3 (ipykernel)",
      "language": "python",
      "name": "python3"
    },
    "language_info": {
      "codemirror_mode": {
        "name": "ipython",
        "version": 3
      },
      "file_extension": ".py",
      "mimetype": "text/x-python",
      "name": "python",
      "nbconvert_exporter": "python",
      "pygments_lexer": "ipython3",
      "version": "3.8.12"
    },
    "colab": {
      "name": "my_control_statements.ipynb",
      "provenance": [],
      "include_colab_link": true
    }
  },
  "nbformat": 4,
  "nbformat_minor": 5
}