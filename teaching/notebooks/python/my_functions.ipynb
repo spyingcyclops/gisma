{
  "cells": [
    {
      "cell_type": "markdown",
      "metadata": {
        "id": "view-in-github",
        "colab_type": "text"
      },
      "source": [
        "<a href=\"https://colab.research.google.com/github/spyingcyclops/gisma/blob/main/my_functions.ipynb\" target=\"_parent\"><img src=\"https://colab.research.google.com/assets/colab-badge.svg\" alt=\"Open In Colab\"/></a>"
      ]
    },
    {
      "cell_type": "markdown",
      "id": "qualified-overhead",
      "metadata": {
        "id": "qualified-overhead"
      },
      "source": [
        "# Functions"
      ]
    },
    {
      "cell_type": "markdown",
      "id": "geographic-kazakhstan",
      "metadata": {
        "id": "geographic-kazakhstan"
      },
      "source": [
        "## Count Non-Vowel Characters\n",
        "Write a Python function that takes a string and returns the number of non-vowel characters in that string. Vowel characters in English are `\"a\"`, `\"e\"`, `\"i\"`, `\"o\"`, and `\"u\"`. For example, given the string `\"abcdA\"`, the function should return 3."
      ]
    },
    {
      "cell_type": "code",
      "execution_count": null,
      "id": "increased-introduction",
      "metadata": {
        "id": "increased-introduction",
        "outputId": "85422292-b524-4028-f2c5-9d42ad8ff264"
      },
      "outputs": [
        {
          "name": "stdout",
          "output_type": "stream",
          "text": [
            "3\n"
          ]
        }
      ],
      "source": [
        "x = \"abcdA\"\n",
        "\n",
        "def count_non_vowels(charstring):\n",
        "    \"\"\"Count the number of non-vowels in a string.\"\"\"\n",
        "    charstring = charstring.lower()\n",
        "    chars = list(charstring)\n",
        "    vowels = [\"a\", \"e\", \"i\", \"o\", \"u\", ]\n",
        "    result = 0\n",
        "    for i in chars:\n",
        "        if i not in vowels:\n",
        "            result += 1\n",
        "    return result\n",
        "\n",
        "print(count_non_vowels(x))\n"
      ]
    },
    {
      "cell_type": "markdown",
      "id": "permanent-lawsuit",
      "metadata": {
        "id": "permanent-lawsuit"
      },
      "source": [
        "## Multiply the List Elements\n",
        "Write a Python function that takes a list of values as input and returns the product of all the numbers in the list. For example, given the input list `[1, 3, 8]`, the function should return 24."
      ]
    },
    {
      "cell_type": "code",
      "execution_count": null,
      "id": "extensive-dividend",
      "metadata": {
        "id": "extensive-dividend",
        "outputId": "f69ebbe4-8e3e-4a7a-ae19-88720f0cce19"
      },
      "outputs": [
        {
          "name": "stdout",
          "output_type": "stream",
          "text": [
            "24\n"
          ]
        }
      ],
      "source": [
        "def list_multiply(numlist):\n",
        "    \"\"\"Take a list of integers and return their product.\"\"\"\n",
        "    product = 1\n",
        "    for i in numlist:\n",
        "        product *= i\n",
        "    return product\n",
        "\n",
        "print(list_multiply([1, 3, 8]))"
      ]
    },
    {
      "cell_type": "markdown",
      "id": "documented-discharge",
      "metadata": {
        "id": "documented-discharge"
      },
      "source": [
        "## Check if a String is Palindrome\n",
        "Write a Python function that takes a string and returns `True` if it is palindrome. A palindrome is a word, number, phrase, or other sequence of characters which reads the same backward as forward. For example, given the string `\"abc\"` the function should return `False`. But, given the string `\"aba\"`, the function should return `True`."
      ]
    },
    {
      "cell_type": "code",
      "execution_count": null,
      "id": "homeless-generator",
      "metadata": {
        "id": "homeless-generator",
        "outputId": "b77100e7-f768-481e-ff3d-335dc392a4e3"
      },
      "outputs": [
        {
          "name": "stdout",
          "output_type": "stream",
          "text": [
            "True\n"
          ]
        }
      ],
      "source": [
        "def is_palindrome(word):\n",
        "    \n",
        "    \"\"\"Return True if a string is the same backwards and forwards.\"\"\"\n",
        "    \n",
        "    word = word.lower() \n",
        "    word_rev = word[::-1] \n",
        "    return word_rev == word\n",
        "\n",
        "print(is_palindrome(\"anna\"))"
      ]
    },
    {
      "cell_type": "markdown",
      "id": "retired-craps",
      "metadata": {
        "id": "retired-craps"
      },
      "source": [
        "## Count the Unique Digits in an Integer\n",
        "Write a Python function that takes a positive integer and returns the number of unique digits in that integer. For example, given the integer 12315, the function should return 4."
      ]
    },
    {
      "cell_type": "code",
      "execution_count": null,
      "id": "australian-resort",
      "metadata": {
        "id": "australian-resort",
        "outputId": "b8103569-2f2f-4cbd-8795-9a14218a60b5"
      },
      "outputs": [
        {
          "data": {
            "text/plain": [
              "4"
            ]
          },
          "execution_count": 18,
          "metadata": {},
          "output_type": "execute_result"
        }
      ],
      "source": [
        "def count_digits(nums=1):\n",
        "    \n",
        "    \"\"\"Given a number, return a count of unique digits.\"\"\"\n",
        "    \n",
        "    numlist = str(nums) #convert to string\n",
        "    \n",
        "    unique = [] #list of unique digits\n",
        "    \n",
        "    for i in numlist:\n",
        "        if i not in unique:\n",
        "            unique.append(i)\n",
        "\n",
        "    return len(unique) \n",
        "\n",
        "count_digits(12315)    \n"
      ]
    },
    {
      "cell_type": "markdown",
      "id": "upset-physiology",
      "metadata": {
        "id": "upset-physiology"
      },
      "source": [
        "## Check a Number is Prime\n",
        "Write a Python function that takes a number and checks the number is prime or not. It should return `True` for being prime and `False` otherwise. Note that a prime number (or a prime) is a natural number greater than 1 and that has no positive divisors other than 1 and itself. For example, the function should return `True` for the given number 7 and `False` for the given number 10."
      ]
    },
    {
      "cell_type": "code",
      "execution_count": null,
      "id": "normal-garbage",
      "metadata": {
        "id": "normal-garbage"
      },
      "outputs": [],
      "source": [
        "def prime_check(num):\n",
        "    \"\"\"Returns True if a given number is a prime number.\"\"\"\n",
        "    for i in range(2, int(num / 2) + 1):\n",
        "        return not num % i == 0\n",
        "\n",
        "\n",
        "print(prime_check(int(input(\"Enter a number:\"))))\n"
      ]
    },
    {
      "cell_type": "markdown",
      "id": "daily-console",
      "metadata": {
        "id": "daily-console"
      },
      "source": [
        "## Sort Hyphened-Seperated Words\n",
        "Write a Python function that takes a sequence of words that are separated by hyphens as input and returns the words in a hyphen-separated sequence after sorting the words alphabetically. For example, given the string `\"green-red-yellow-black-white\"`, the function should return `\"black-green-red-white-yellow\"`."
      ]
    },
    {
      "cell_type": "code",
      "execution_count": null,
      "id": "aging-staff",
      "metadata": {
        "id": "aging-staff",
        "outputId": "44654c44-5a0c-4fdc-851e-d17899b9ea64"
      },
      "outputs": [
        {
          "name": "stdout",
          "output_type": "stream",
          "text": [
            "black-green-red-white-yellow\n"
          ]
        }
      ],
      "source": [
        "# code by Vince\n",
        "def sort_hyphenated(word_sequence):\n",
        "    \"\"\"Returns a sorted string of hyphen-separated words\"\"\"\n",
        "    words = word_sequence.split(\"-\")\n",
        "    words.sort()\n",
        "    sep = \"-\"\n",
        "    sorted_words = str(sep.join(words))\n",
        "    return sorted_words\n",
        "\n",
        "print(sort_hyphenated(\"black-green-red-white-yellow\"))"
      ]
    },
    {
      "cell_type": "markdown",
      "id": "dressed-leisure",
      "metadata": {
        "id": "dressed-leisure"
      },
      "source": [
        "## Count the Characters\n",
        "Write a Python function that takes a string as input and returns a dictionary that stores the frequency of each character in the input string. For example, given the string `\"abca\"`, the function should return `{'a': 2, 'b': 1, 'c': 1}`."
      ]
    },
    {
      "cell_type": "code",
      "execution_count": null,
      "id": "complete-stress",
      "metadata": {
        "id": "complete-stress",
        "outputId": "60f98bb8-021a-4281-db0d-32a5da1d8d58"
      },
      "outputs": [
        {
          "name": "stdout",
          "output_type": "stream",
          "text": [
            "{'a': 2, 'b': 1, 'c': 1}\n"
          ]
        }
      ],
      "source": [
        "# code by Rasha\n",
        "\n",
        "def dic_frequency_char(input_string):\n",
        "    freq = {}\n",
        "    for item in input_string:\n",
        "        if (item in freq):\n",
        "            freq[item] += 1\n",
        "        else:\n",
        "            freq[item] = 1\n",
        "    print(freq)\n",
        "    \n",
        "product = dic_frequency_char(\"abca\")    \n",
        "    "
      ]
    },
    {
      "cell_type": "markdown",
      "id": "73aad747",
      "metadata": {
        "id": "73aad747"
      },
      "source": [
        "###note\n",
        "check how the dict defaults work. Need to understand this block better:\n",
        "        if (item in freq):\n",
        "            freq[item] += 1\n",
        "        else:\n",
        "            freq[item] = 1"
      ]
    },
    {
      "cell_type": "markdown",
      "id": "aerial-uganda",
      "metadata": {
        "id": "aerial-uganda"
      },
      "source": [
        "## Compute the Fibonacci Sequence\n",
        "The Fibonacci Sequence is computed based on the following formula:     \n",
        "\n",
        "$$ f(n) = 0 \\text{   if } n = 0; \\\\\n",
        "f(n) = 1 \\text{   if } n = 1; \\\\\n",
        "f(n) = f(n-1) + f(n-2) \\text{   if } n > 1. $$     \n",
        "\n",
        "Write a Python function that computes the value of `f(n)` with a given `n` as input. For example, given 7, the function should return 13."
      ]
    },
    {
      "cell_type": "code",
      "execution_count": null,
      "id": "8ae79da5",
      "metadata": {
        "id": "8ae79da5",
        "outputId": "9819d7ee-644c-41b8-c430-a3e42c3076e0"
      },
      "outputs": [
        {
          "name": "stdout",
          "output_type": "stream",
          "text": [
            "13\n"
          ]
        }
      ],
      "source": [
        "# code by Professor\n",
        "\n",
        "def fib2(n):\n",
        "    sequence = []\n",
        "    for i in range(0, n + 1):\n",
        "        if i == 0:\n",
        "            sequence.append(0)\n",
        "        elif i == 1:\n",
        "            sequence.append(1)\n",
        "        else:\n",
        "            n_2 = sequence[-2]\n",
        "            n_1 = sequence[-1]\n",
        "            sum_of_last_two = n_2 + n_1\n",
        "            sequence.append(sum_of_last_two)\n",
        "    return sequence[n]\n",
        "\n",
        "\n",
        "print(fib2(7))"
      ]
    },
    {
      "cell_type": "markdown",
      "id": "17004ff6",
      "metadata": {
        "id": "17004ff6"
      },
      "source": [
        "### notes: \n",
        "below is recursive, and with potentially high time compelxity. The Professor's solution constructs the sequence from the bottom up. "
      ]
    },
    {
      "cell_type": "code",
      "execution_count": null,
      "id": "compatible-senate",
      "metadata": {
        "id": "compatible-senate",
        "outputId": "3da8d6a1-f57c-4c2b-cba9-6c848ecbe212"
      },
      "outputs": [
        {
          "name": "stdout",
          "output_type": "stream",
          "text": [
            "13\n"
          ]
        }
      ],
      "source": [
        "# Code by Junaid\n",
        "\n",
        "# Function for nth Fibonacci number\n",
        "def Fibonacci(n):\n",
        "# Check if input is 0 then it will print incorrect input\n",
        "    if n < 0:\n",
        "        print(\"Incorrect input\")\n",
        "\n",
        "# Check if n is 0 then it will return 0\n",
        "    elif n == 0:\n",
        "        return 0\n",
        "\n",
        "# Check if n is 1,2 it will return 1\n",
        "    elif n == 1 or n == 2:\n",
        "        return 1\n",
        "    else:\n",
        "        return Fibonacci(n-1) + Fibonacci(n-2)\n",
        "\n",
        "# calling Program\n",
        "print(Fibonacci(7))"
      ]
    }
  ],
  "metadata": {
    "kernelspec": {
      "display_name": "Python 3 (ipykernel)",
      "language": "python",
      "name": "python3"
    },
    "language_info": {
      "codemirror_mode": {
        "name": "ipython",
        "version": 3
      },
      "file_extension": ".py",
      "mimetype": "text/x-python",
      "name": "python",
      "nbconvert_exporter": "python",
      "pygments_lexer": "ipython3",
      "version": "3.8.12"
    },
    "colab": {
      "name": "my_functions.ipynb",
      "provenance": [],
      "include_colab_link": true
    }
  },
  "nbformat": 4,
  "nbformat_minor": 5
}