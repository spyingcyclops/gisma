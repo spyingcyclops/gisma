{
 "cells": [
  {
   "cell_type": "markdown",
   "id": "bibliographic-edward",
   "metadata": {},
   "source": [
    "# Modules and Packages"
   ]
  },
  {
   "cell_type": "markdown",
   "id": "actual-chinese",
   "metadata": {},
   "source": [
    "## os\n",
    "Write a Python program to print the list of files in the current folder and their absolute path."
   ]
  },
  {
   "cell_type": "code",
   "execution_count": 1,
   "id": "tender-colombia",
   "metadata": {},
   "outputs": [
    {
     "name": "stdout",
     "output_type": "stream",
     "text": [
      "/mnt/c/Users/mccaf/AppData/Local/Programs/Microsoft VS Code/bin\n",
      "/mnt/c/Users/mccaf/AppData/Local/Programs/Microsoft VS Code/chrome_100_percent.pak\n",
      "/mnt/c/Users/mccaf/AppData/Local/Programs/Microsoft VS Code/chrome_200_percent.pak\n",
      "/mnt/c/Users/mccaf/AppData/Local/Programs/Microsoft VS Code/Code.exe\n",
      "/mnt/c/Users/mccaf/AppData/Local/Programs/Microsoft VS Code/Code.VisualElementsManifest.xml\n",
      "/mnt/c/Users/mccaf/AppData/Local/Programs/Microsoft VS Code/d3dcompiler_47.dll\n",
      "/mnt/c/Users/mccaf/AppData/Local/Programs/Microsoft VS Code/ffmpeg.dll\n",
      "/mnt/c/Users/mccaf/AppData/Local/Programs/Microsoft VS Code/icudtl.dat\n",
      "/mnt/c/Users/mccaf/AppData/Local/Programs/Microsoft VS Code/libEGL.dll\n",
      "/mnt/c/Users/mccaf/AppData/Local/Programs/Microsoft VS Code/libGLESv2.dll\n",
      "/mnt/c/Users/mccaf/AppData/Local/Programs/Microsoft VS Code/locales\n",
      "/mnt/c/Users/mccaf/AppData/Local/Programs/Microsoft VS Code/resources\n",
      "/mnt/c/Users/mccaf/AppData/Local/Programs/Microsoft VS Code/resources.pak\n",
      "/mnt/c/Users/mccaf/AppData/Local/Programs/Microsoft VS Code/snapshot_blob.bin\n",
      "/mnt/c/Users/mccaf/AppData/Local/Programs/Microsoft VS Code/swiftshader\n",
      "/mnt/c/Users/mccaf/AppData/Local/Programs/Microsoft VS Code/tools\n",
      "/mnt/c/Users/mccaf/AppData/Local/Programs/Microsoft VS Code/unins000.dat\n",
      "/mnt/c/Users/mccaf/AppData/Local/Programs/Microsoft VS Code/unins000.exe\n",
      "/mnt/c/Users/mccaf/AppData/Local/Programs/Microsoft VS Code/unins000.msg\n",
      "/mnt/c/Users/mccaf/AppData/Local/Programs/Microsoft VS Code/v8_context_snapshot.bin\n",
      "/mnt/c/Users/mccaf/AppData/Local/Programs/Microsoft VS Code/vk_swiftshader.dll\n",
      "/mnt/c/Users/mccaf/AppData/Local/Programs/Microsoft VS Code/vk_swiftshader_icd.json\n",
      "/mnt/c/Users/mccaf/AppData/Local/Programs/Microsoft VS Code/vulkan-1.dll\n"
     ]
    }
   ],
   "source": [
    "import os\n",
    "\n",
    "list_of_files = os.listdir(\".\")\n",
    "\n",
    "\n",
    "for file in list_of_files:\n",
    "    print(os.path.abspath(file))"
   ]
  },
  {
   "cell_type": "markdown",
   "id": "burning-montreal",
   "metadata": {},
   "source": [
    "## math\n",
    "Write a Python program that finds the maximum of log$_2 10000$ and $ e^e $."
   ]
  },
  {
   "cell_type": "code",
   "execution_count": 2,
   "id": "saved-craft",
   "metadata": {},
   "outputs": [
    {
     "name": "stdout",
     "output_type": "stream",
     "text": [
      "9.210340371976184\n"
     ]
    }
   ],
   "source": [
    "import math\n",
    "\n",
    "x = math.e * math.e\n",
    "y = math.log(10000)\n",
    "\n",
    "print(max(x, y))"
   ]
  },
  {
   "cell_type": "markdown",
   "id": "opponent-morning",
   "metadata": {},
   "source": [
    "## random\n",
    "Write a Python function that takes a probability between 0.0 and 1.0 and returns `True` with that probability. For example, if the input probability is 0.3, the function should return `True` in the 30\\% of times and `False` in the 70\\% of times.\n",
    "\n",
    "My example uses a coin toss. The user enters the fairness of a coin and the number of times it is tossed. A fair coin has a fairness level of .5 (or 50%), and a coin with .9 is baised to land on heads 90% of the time."
   ]
  },
  {
   "cell_type": "code",
   "execution_count": 3,
   "id": "global-alpha",
   "metadata": {},
   "outputs": [
    {
     "name": "stdout",
     "output_type": "stream",
     "text": [
      "Number of heads:  777\n",
      "Number of tails: 4224\n"
     ]
    }
   ],
   "source": [
    "import random\n",
    "\n",
    "def toss(probability):\n",
    "    \"\"\"\n",
    "    Takes a probability between 0 and 1, \n",
    "    and compares it with a random number between 0 and 1.\n",
    "    \"\"\"\n",
    "    return random.random() < probability\n",
    "\n",
    "heads = 0\n",
    "tails = 0\n",
    "\n",
    "bias = float(input(\"Coin fairness, between 0 and 1? \"))\n",
    "tosses = int(input(\"How many coin tosses? \"))\n",
    "\n",
    "for i in range(0, tosses + 1):\n",
    "    if toss(bias):\n",
    "        heads += 1\n",
    "    else:\n",
    "        tails += 1\n",
    "\n",
    "print(\"Number of heads: \", heads)\n",
    "print(\"Number of tails:\", tails)    "
   ]
  },
  {
   "cell_type": "markdown",
   "id": "novel-rotation",
   "metadata": {},
   "source": [
    "## pickle\n",
    "Write a Python program to store a dictionary on the hard disk and load it again."
   ]
  },
  {
   "cell_type": "code",
   "execution_count": 96,
   "id": "convinced-fault",
   "metadata": {},
   "outputs": [],
   "source": [
    "import pickle\n",
    "\n",
    "muppet_band = {\n",
    "    \"Kermit\": \"lead guitar\", \n",
    "    \"Miss Piggy\": \"singer\", \n",
    "    \"Fozzy\": \"bass guitar\", \n",
    "    \"Ralph\": \"piano\", \n",
    "    \"Animal\": \"drums\"}\n",
    "\n",
    "# save to disk as a file\n",
    "with open('file.pkl', 'wb') as file:\n",
    "    pickle.dump(muppet_band, file)\n"
   ]
  },
  {
   "cell_type": "code",
   "execution_count": 97,
   "id": "1d3b3037",
   "metadata": {},
   "outputs": [
    {
     "data": {
      "text/plain": [
       "{'Kermit': 'lead guitar',\n",
       " 'Miss Piggy': 'singer',\n",
       " 'Fozzy': 'bass guitar',\n",
       " 'Swedish Chef': 'saxaphone',\n",
       " 'Animal': 'drums'}"
      ]
     },
     "execution_count": 97,
     "metadata": {},
     "output_type": "execute_result"
    }
   ],
   "source": [
    "# load the file from disk\n",
    "with open('file.pkl', 'rb') as file:\n",
    "    pkband = pickle.load(file)\n",
    "    \n",
    "pkband"
   ]
  },
  {
   "cell_type": "markdown",
   "id": "scientific-timer",
   "metadata": {},
   "source": [
    "## json\n",
    "Write a Python program to store a dictionary as a json file on the hard disk and load it again."
   ]
  },
  {
   "cell_type": "code",
   "execution_count": 4,
   "id": "western-resident",
   "metadata": {},
   "outputs": [],
   "source": [
    "import json\n",
    "\n",
    "muppet_band = {\n",
    "    \"Kermit\": \"lead guitar\", \n",
    "    \"Miss Piggy\": \"singer\", \n",
    "    \"Fozzy\": \"bass guitar\", \n",
    "    \"Ralph\": \"piano\", \n",
    "    \"Animal\": \"drums\"}\n",
    "\n",
    "with open(\"myband.json_object\", \"w\") as outfile:\n",
    "    json.dump(muppet_band, outfile)\n"
   ]
  },
  {
   "cell_type": "code",
   "execution_count": 5,
   "id": "d20db1d8",
   "metadata": {},
   "outputs": [
    {
     "data": {
      "text/plain": [
       "{'Kermit': 'lead guitar',\n",
       " 'Miss Piggy': 'singer',\n",
       " 'Fozzy': 'bass guitar',\n",
       " 'Ralph': 'piano',\n",
       " 'Animal': 'drums'}"
      ]
     },
     "execution_count": 5,
     "metadata": {},
     "output_type": "execute_result"
    }
   ],
   "source": [
    "with open('myband.json_object', 'rb') as file:\n",
    "    jsband = json.load(file)\n",
    "    \n",
    "jsband"
   ]
  },
  {
   "cell_type": "markdown",
   "id": "hidden-quick",
   "metadata": {},
   "source": [
    "## re\n",
    "Write a function that takes a string as input and returns `True` if the format of the string matches the format of an email address."
   ]
  },
  {
   "cell_type": "code",
   "execution_count": null,
   "id": "cloudy-visiting",
   "metadata": {},
   "outputs": [],
   "source": [
    "import re\n",
    "\n",
    "email = input(\"Enter an email address: \")\n",
    "\n",
    "def isemail(text):\n",
    "    \"\"\"\n",
    "    Returns True if input string matches email format, as defined in regex pattern.\n",
    "    \"\"\"\n",
    "    pattern = re.compile(r'([A-Za-z0-9]+[.-_])*[A-Za-z0-9]+@[A-Za-z0-9-]+(\\.[A-Z|a-z]{2,})+')\n",
    "    if re.fullmatch(pattern, text):\n",
    "        return True\n",
    "    else:\n",
    "        return False\n",
    "\n",
    "print(isemail(email))"
   ]
  }
 ],
 "metadata": {
  "kernelspec": {
   "display_name": "Python 3 (ipykernel)",
   "language": "python",
   "name": "python3"
  },
  "language_info": {
   "codemirror_mode": {
    "name": "ipython",
    "version": 3
   },
   "file_extension": ".py",
   "mimetype": "text/x-python",
   "name": "python",
   "nbconvert_exporter": "python",
   "pygments_lexer": "ipython3",
   "version": "3.8.10"
  }
 },
 "nbformat": 4,
 "nbformat_minor": 5
}
