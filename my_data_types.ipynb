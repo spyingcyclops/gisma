{
  "cells": [
    {
      "cell_type": "markdown",
      "id": "novel-stream",
      "metadata": {
        "id": "novel-stream"
      },
      "source": [
        "# Data Types"
      ]
    },
    {
      "cell_type": "markdown",
      "id": "finite-albania",
      "metadata": {
        "id": "finite-albania"
      },
      "source": [
        "## Remove Vowels\n",
        "Write a Python program that takes a string, makes the character lowercase, removes its vowel characters (`\"a\"`, `\"e\"`, `\"i\"`, `\"o\"`, and `\"u\"`) and prints the result. For example, given the string `\"Hello\"`, the program should print `\"hll\"`."
      ]
    },
    {
      "cell_type": "code",
      "execution_count": null,
      "id": "human-century",
      "metadata": {
        "id": "human-century",
        "outputId": "c5d070d1-72df-4d7f-957c-1e69fa766ed4"
      },
      "outputs": [
        {
          "name": "stdout",
          "output_type": "stream",
          "text": [
            "Enter a string: hello, HOw ARE you\n"
          ]
        },
        {
          "data": {
            "text/plain": [
              "'hll, hw r y'"
            ]
          },
          "execution_count": 55,
          "metadata": {},
          "output_type": "execute_result"
        }
      ],
      "source": [
        "s = input(\"Enter a string: \")\n",
        "s = s.lower()\n",
        "s = s.replace(\"a\", \"\").replace(\"e\", \"\").replace(\"i\", \"\").replace(\"o\", \"\").replace(\"u\", \"\")\n",
        "s"
      ]
    },
    {
      "cell_type": "markdown",
      "id": "formed-candy",
      "metadata": {
        "id": "formed-candy"
      },
      "source": [
        "## Reverse the Words\n",
        "Write a Python program that takes a string containing some words that are separeted with whitespace, reverses the words in the string, and prints the result. For example, given the string `\"hello how are you\"`, the program should print `\"you are how hello\"`. "
      ]
    },
    {
      "cell_type": "code",
      "execution_count": null,
      "id": "forward-berry",
      "metadata": {
        "id": "forward-berry",
        "outputId": "44ca4f30-635d-4b91-992c-6d69c599d42d"
      },
      "outputs": [
        {
          "name": "stdout",
          "output_type": "stream",
          "text": [
            "Enter a string: hello, who the fuck are you\n"
          ]
        },
        {
          "data": {
            "text/plain": [
              "'you are fuck the who hello,'"
            ]
          },
          "execution_count": 56,
          "metadata": {},
          "output_type": "execute_result"
        }
      ],
      "source": [
        "s = input(\"Enter a string: \")\n",
        "s = s.split()\n",
        "s.reverse()\n",
        "sep = \" \"\n",
        "sep.join(s)"
      ]
    },
    {
      "cell_type": "markdown",
      "id": "after-radius",
      "metadata": {
        "id": "after-radius"
      },
      "source": [
        "## Count Common Elements of 2 Lists\n",
        "Write a Python program that prints the number of common elements in two given lists. For example, given `[1, 2, 3]` and `[5, 1, 3]`, the program should print 2."
      ]
    },
    {
      "cell_type": "code",
      "execution_count": null,
      "id": "adverse-berkeley",
      "metadata": {
        "id": "adverse-berkeley",
        "outputId": "257db1f0-b7e8-44aa-cad9-aa473c150b66"
      },
      "outputs": [
        {
          "data": {
            "text/plain": [
              "2"
            ]
          },
          "execution_count": 21,
          "metadata": {},
          "output_type": "execute_result"
        }
      ],
      "source": [
        "l1 = {1, 2, 3}\n",
        "l2 = {5, 1, 3}\n",
        "\n",
        "s1 = set(l1)\n",
        "s2 = set(l2)\n",
        "\n",
        "u = s1.intersection(s2)\n",
        "len(u)"
      ]
    },
    {
      "cell_type": "markdown",
      "id": "secret-theme",
      "metadata": {
        "id": "secret-theme"
      },
      "source": [
        "## Print Sorted Unique Words\n",
        "Write a Python program that takes a string containing some words that are separeted with whitespace, removes all duplicate words, sorts the remaining words alphanumerically, and prints the result. For example, given the string `\"hello world and practice makes perfect and hello world again\"`, the program should print `\"again and hello makes perfect practice world\"`."
      ]
    },
    {
      "cell_type": "code",
      "execution_count": null,
      "id": "requested-rapid",
      "metadata": {
        "id": "requested-rapid",
        "outputId": "3277ea38-9cb1-4ebf-d0d7-e3a8d0d92a2c"
      },
      "outputs": [
        {
          "data": {
            "text/plain": [
              "'again and hello makes perfect practice world'"
            ]
          },
          "execution_count": 37,
          "metadata": {},
          "output_type": "execute_result"
        }
      ],
      "source": [
        "s = \"hello world and practice makes perfect and hello world again\"\n",
        "s = s.split()\n",
        "s1 = set(s)\n",
        "s2 = list(s1)\n",
        "s2.sort()\n",
        "sep = \" \"\n",
        "s2 = str(sep.join(s2))\n",
        "s2"
      ]
    },
    {
      "cell_type": "markdown",
      "id": "satellite-residence",
      "metadata": {
        "id": "satellite-residence"
      },
      "source": [
        "## Convert a List of Integers to an Integer\n",
        "Write a Python program to convert a given list of integers to an integer. For example, given `[11, 2, 54]`, the program should assign 11254 into an integer variable."
      ]
    },
    {
      "cell_type": "code",
      "execution_count": null,
      "id": "excessive-spectrum",
      "metadata": {
        "id": "excessive-spectrum",
        "outputId": "b1d6e0b4-7077-4514-bd85-93466cd638a6"
      },
      "outputs": [
        {
          "data": {
            "text/plain": [
              "11254"
            ]
          },
          "execution_count": 54,
          "metadata": {},
          "output_type": "execute_result"
        }
      ],
      "source": [
        "i = [11, 2, 54]\n",
        "si = str(i[0])+str(i[1])+str(i[2])\n",
        "int(si)\n"
      ]
    }
  ],
  "metadata": {
    "kernelspec": {
      "display_name": "Python 3 (ipykernel)",
      "language": "python",
      "name": "python3"
    },
    "language_info": {
      "codemirror_mode": {
        "name": "ipython",
        "version": 3
      },
      "file_extension": ".py",
      "mimetype": "text/x-python",
      "name": "python",
      "nbconvert_exporter": "python",
      "pygments_lexer": "ipython3",
      "version": "3.8.12"
    },
    "colab": {
      "name": "my_data_types.ipynb",
      "provenance": []
    }
  },
  "nbformat": 4,
  "nbformat_minor": 5
}